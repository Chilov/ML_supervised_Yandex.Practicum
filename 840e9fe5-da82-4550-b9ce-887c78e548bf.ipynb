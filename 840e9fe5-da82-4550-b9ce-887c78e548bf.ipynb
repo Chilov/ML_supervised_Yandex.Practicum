{
 "cells": [
  {
   "cell_type": "markdown",
   "metadata": {
    "toc": true
   },
   "source": [
    "<h1>Содержание<span class=\"tocSkip\"></span></h1>\n",
    "<div class=\"toc\"><ul class=\"toc-item\"><li><span><a href=\"#Подготовка-данных\" data-toc-modified-id=\"Подготовка-данных-1\"><span class=\"toc-item-num\">1&nbsp;&nbsp;</span>Подготовка данных</a></span></li><li><span><a href=\"#Исследование-задачи\" data-toc-modified-id=\"Исследование-задачи-2\"><span class=\"toc-item-num\">2&nbsp;&nbsp;</span>Исследование задачи</a></span></li><li><span><a href=\"#Борьба-с-дисбалансом\" data-toc-modified-id=\"Борьба-с-дисбалансом-3\"><span class=\"toc-item-num\">3&nbsp;&nbsp;</span>Борьба с дисбалансом</a></span></li><li><span><a href=\"#Тестирование-модели\" data-toc-modified-id=\"Тестирование-модели-4\"><span class=\"toc-item-num\">4&nbsp;&nbsp;</span>Тестирование модели</a></span></li><li><span><a href=\"#Вывод\" data-toc-modified-id=\"Вывод-5\"><span class=\"toc-item-num\">5&nbsp;&nbsp;</span>Вывод</a></span></li><li><span><a href=\"#Чек-лист-готовности-проекта\" data-toc-modified-id=\"Чек-лист-готовности-проекта-6\"><span class=\"toc-item-num\">6&nbsp;&nbsp;</span>Чек-лист готовности проекта</a></span></li></ul></div>"
   ]
  },
  {
   "cell_type": "markdown",
   "metadata": {},
   "source": [
    "# Отток клиентов"
   ]
  },
  {
   "cell_type": "markdown",
   "metadata": {},
   "source": [
    "Из «Бета-Банка» стали уходить клиенты. Каждый месяц. Немного, но заметно. Банковские маркетологи посчитали: сохранять текущих клиентов дешевле, чем привлекать новых.\n",
    "\n",
    "Нужно спрогнозировать, уйдёт клиент из банка в ближайшее время или нет. Вам предоставлены исторические данные о поведении клиентов и расторжении договоров с банком. \n",
    "\n",
    "Постройте модель с предельно большим значением *F1*-меры. Чтобы сдать проект успешно, нужно довести метрику до 0.59. Проверьте *F1*-меру на тестовой выборке самостоятельно.\n",
    "\n",
    "Дополнительно измеряйте *AUC-ROC*, сравнивайте её значение с *F1*-мерой.\n",
    "\n",
    "Источник данных: [https://www.kaggle.com/barelydedicated/bank-customer-churn-modeling](https://www.kaggle.com/barelydedicated/bank-customer-churn-modeling)"
   ]
  },
  {
   "cell_type": "markdown",
   "metadata": {},
   "source": [
    "## Подготовка данных"
   ]
  },
  {
   "cell_type": "markdown",
   "metadata": {},
   "source": [
    "Данные содержат информацию о клиентах банка и включают такие значения как баланс, кредитный рэйтинг, доход и другие, а так же информацию об отказе от услуг банка. Необходимо оценить вероятность ухода клиентов из банка. Данная задача представляется задачей классификации (уход/не уход).  "
   ]
  },
  {
   "cell_type": "code",
   "execution_count": null,
   "metadata": {},
   "outputs": [],
   "source": [
    "import pandas as pd\n",
    "import numpy as np\n",
    "import matplotlib.pyplot as plt\n",
    "data = pd.read_csv('/Users/dmitrichilov/Downloads/Churn_Modelling.csv ')"
   ]
  },
  {
   "cell_type": "code",
   "execution_count": null,
   "metadata": {},
   "outputs": [],
   "source": [
    "from sklearn.preprocessing import StandardScaler\n",
    "from sklearn.model_selection import train_test_split\n",
    "from sklearn.tree import DecisionTreeClassifier\n",
    "from sklearn.ensemble import RandomForestClassifier, RandomForestRegressor\n",
    "from sklearn.linear_model import LinearRegression, LogisticRegression\n",
    "from sklearn.model_selection import GridSearchCV"
   ]
  },
  {
   "cell_type": "code",
   "execution_count": null,
   "metadata": {},
   "outputs": [],
   "source": [
    "from sklearn.metrics import accuracy_score, confusion_matrix, f1_score, roc_auc_score\n",
    "from sklearn.utils import shuffle"
   ]
  },
  {
   "cell_type": "code",
   "execution_count": null,
   "metadata": {},
   "outputs": [
    {
     "name": "stdout",
     "output_type": "stream",
     "text": [
      "(10000, 14)\n",
      "<class 'pandas.core.frame.DataFrame'>\n",
      "RangeIndex: 10000 entries, 0 to 9999\n",
      "Data columns (total 14 columns):\n",
      "RowNumber          10000 non-null int64\n",
      "CustomerId         10000 non-null int64\n",
      "Surname            10000 non-null object\n",
      "CreditScore        10000 non-null int64\n",
      "Geography          10000 non-null object\n",
      "Gender             10000 non-null object\n",
      "Age                10000 non-null int64\n",
      "Tenure             9091 non-null float64\n",
      "Balance            10000 non-null float64\n",
      "NumOfProducts      10000 non-null int64\n",
      "HasCrCard          10000 non-null int64\n",
      "IsActiveMember     10000 non-null int64\n",
      "EstimatedSalary    10000 non-null float64\n",
      "Exited             10000 non-null int64\n",
      "dtypes: float64(3), int64(8), object(3)\n",
      "memory usage: 1.1+ MB\n",
      "None\n"
     ]
    }
   ],
   "source": [
    "print(data.shape)\n",
    "print(data.info())"
   ]
  },
  {
   "cell_type": "code",
   "execution_count": 5,
   "metadata": {},
   "outputs": [
    {
     "data": {
      "text/plain": [
       "RowNumber            int64\n",
       "CustomerId           int64\n",
       "Surname             object\n",
       "CreditScore          int64\n",
       "Geography           object\n",
       "Gender              object\n",
       "Age                  int64\n",
       "Tenure             float64\n",
       "Balance            float64\n",
       "NumOfProducts        int64\n",
       "HasCrCard            int64\n",
       "IsActiveMember       int64\n",
       "EstimatedSalary    float64\n",
       "Exited               int64\n",
       "dtype: object"
      ]
     },
     "execution_count": 5,
     "metadata": {},
     "output_type": "execute_result"
    }
   ],
   "source": [
    "data.dtypes"
   ]
  },
  {
   "cell_type": "markdown",
   "metadata": {},
   "source": [
    "Обнаружены пропущенные значения в столбце Tenure. Изучим значения в Tenure"
   ]
  },
  {
   "cell_type": "code",
   "execution_count": null,
   "metadata": {
    "scrolled": true
   },
   "outputs": [
    {
     "name": "stdout",
     "output_type": "stream",
     "text": [
      "1.0     952\n",
      "2.0     950\n",
      "8.0     933\n",
      "3.0     928\n",
      "5.0     927\n",
      "7.0     925\n",
      "4.0     885\n",
      "9.0     882\n",
      "6.0     881\n",
      "10.0    446\n",
      "0.0     382\n",
      "Name: Tenure, dtype: int64\n",
      "5.0\n",
      "4.997690023099769\n"
     ]
    }
   ],
   "source": [
    "print(data['Tenure'].value_counts())\n",
    "print(data['Tenure'].median())\n",
    "print(data['Tenure'].mean())"
   ]
  },
  {
   "cell_type": "code",
   "execution_count": null,
   "metadata": {},
   "outputs": [
    {
     "data": {
      "text/plain": [
       "0    726\n",
       "1    183\n",
       "Name: Exited, dtype: int64"
      ]
     },
     "metadata": {},
     "output_type": "display_data"
    }
   ],
   "source": [
    "display(data.query('Tenure.isna()')['Exited'].value_counts())"
   ]
  },
  {
   "cell_type": "code",
   "execution_count": null,
   "metadata": {
    "scrolled": true
   },
   "outputs": [
    {
     "data": {
      "text/plain": [
       "0    7237\n",
       "1    1854\n",
       "Name: Exited, dtype: int64"
      ]
     },
     "metadata": {},
     "output_type": "display_data"
    }
   ],
   "source": [
    "display(data.query('Tenure.notna()')['Exited'].value_counts())"
   ]
  },
  {
   "cell_type": "code",
   "execution_count": null,
   "metadata": {},
   "outputs": [
    {
     "data": {
      "text/plain": [
       "5.022246787342822"
      ]
     },
     "execution_count": 9,
     "metadata": {},
     "output_type": "execute_result"
    }
   ],
   "source": [
    "data.query('Exited == 0')['Tenure'].mean()"
   ]
  },
  {
   "cell_type": "code",
   "execution_count": 10,
   "metadata": {},
   "outputs": [
    {
     "data": {
      "text/plain": [
       "4.901833872707659"
      ]
     },
     "execution_count": 10,
     "metadata": {},
     "output_type": "execute_result"
    }
   ],
   "source": [
    "data.query('Exited == 1')['Tenure'].mean()"
   ]
  },
  {
   "cell_type": "markdown",
   "metadata": {},
   "source": [
    "Представляется возможным заменить пропущенный значения на среднее"
   ]
  },
  {
   "cell_type": "code",
   "execution_count": 11,
   "metadata": {},
   "outputs": [],
   "source": [
    "# data['Tenure'] = data['Tenure'].fillna(value = data['Tenure'].mean())\n",
    "data['Tenure'] = data['Tenure'].fillna(value = pd.Series(np.random.randint(0,10, size=len(data)), index=data.index))"
   ]
  },
  {
   "cell_type": "code",
   "execution_count": 12,
   "metadata": {},
   "outputs": [
    {
     "name": "stdout",
     "output_type": "stream",
     "text": [
      "1.0     1052\n",
      "2.0     1040\n",
      "5.0     1030\n",
      "8.0     1025\n",
      "7.0     1013\n",
      "3.0     1007\n",
      "4.0      980\n",
      "6.0      978\n",
      "9.0      971\n",
      "0.0      458\n",
      "10.0     446\n",
      "Name: Tenure, dtype: int64\n"
     ]
    }
   ],
   "source": [
    "print(data['Tenure'].value_counts())"
   ]
  },
  {
   "cell_type": "code",
   "execution_count": 13,
   "metadata": {
    "scrolled": true
   },
   "outputs": [
    {
     "name": "stdout",
     "output_type": "stream",
     "text": [
      "RowNumber          0\n",
      "CustomerId         0\n",
      "Surname            0\n",
      "CreditScore        0\n",
      "Geography          0\n",
      "Gender             0\n",
      "Age                0\n",
      "Tenure             0\n",
      "Balance            0\n",
      "NumOfProducts      0\n",
      "HasCrCard          0\n",
      "IsActiveMember     0\n",
      "EstimatedSalary    0\n",
      "Exited             0\n",
      "dtype: int64\n",
      "0\n"
     ]
    }
   ],
   "source": [
    "print(data.isna().sum())\n",
    "print(data.duplicated().sum())"
   ]
  },
  {
   "cell_type": "markdown",
   "metadata": {},
   "source": [
    "Выделим столбцы, чьи значения не существенны для построения моделей, в отдельную таблицу и удалим их из основной таблицы"
   ]
  },
  {
   "cell_type": "code",
   "execution_count": 14,
   "metadata": {},
   "outputs": [],
   "source": [
    "surnames = data[['RowNumber','CustomerId','Surname']]"
   ]
  },
  {
   "cell_type": "code",
   "execution_count": 15,
   "metadata": {},
   "outputs": [],
   "source": [
    "data = data.drop(['RowNumber','CustomerId', 'Surname'], axis = 1)"
   ]
  },
  {
   "cell_type": "markdown",
   "metadata": {},
   "source": [
    "Переведём категориальные значения в бинарные с помощью функции pd.get_dummies "
   ]
  },
  {
   "cell_type": "code",
   "execution_count": 16,
   "metadata": {},
   "outputs": [],
   "source": [
    "data_ohe = pd.get_dummies(data, drop_first = True)"
   ]
  },
  {
   "cell_type": "code",
   "execution_count": 17,
   "metadata": {},
   "outputs": [
    {
     "name": "stdout",
     "output_type": "stream",
     "text": [
      "<class 'pandas.core.frame.DataFrame'>\n",
      "RangeIndex: 10000 entries, 0 to 9999\n",
      "Data columns (total 12 columns):\n",
      "CreditScore          10000 non-null int64\n",
      "Age                  10000 non-null int64\n",
      "Tenure               10000 non-null float64\n",
      "Balance              10000 non-null float64\n",
      "NumOfProducts        10000 non-null int64\n",
      "HasCrCard            10000 non-null int64\n",
      "IsActiveMember       10000 non-null int64\n",
      "EstimatedSalary      10000 non-null float64\n",
      "Exited               10000 non-null int64\n",
      "Geography_Germany    10000 non-null uint8\n",
      "Geography_Spain      10000 non-null uint8\n",
      "Gender_Male          10000 non-null uint8\n",
      "dtypes: float64(3), int64(6), uint8(3)\n",
      "memory usage: 732.5 KB\n"
     ]
    }
   ],
   "source": [
    "data_ohe.info()"
   ]
  },
  {
   "cell_type": "markdown",
   "metadata": {},
   "source": [
    "Создадим список столбцов с численными значениями"
   ]
  },
  {
   "cell_type": "code",
   "execution_count": 18,
   "metadata": {},
   "outputs": [],
   "source": [
    "numeric = ['CreditScore', 'Age', 'Tenure', 'Balance', 'EstimatedSalary']"
   ]
  },
  {
   "cell_type": "markdown",
   "metadata": {},
   "source": [
    "Выделим целевой и обучающие признаки"
   ]
  },
  {
   "cell_type": "code",
   "execution_count": 19,
   "metadata": {},
   "outputs": [],
   "source": [
    "target = data_ohe['Exited']\n",
    "features = data_ohe.drop('Exited', axis = 1)"
   ]
  },
  {
   "cell_type": "markdown",
   "metadata": {},
   "source": [
    "Разделим данные на обучающую, валидационную и тестовую выборки"
   ]
  },
  {
   "cell_type": "code",
   "execution_count": 20,
   "metadata": {},
   "outputs": [],
   "source": [
    "features_train, features_rest, target_train, target_rest = train_test_split(features,\n",
    "                                                                          target, train_size=0.6, random_state=12345)"
   ]
  },
  {
   "cell_type": "code",
   "execution_count": 21,
   "metadata": {},
   "outputs": [],
   "source": [
    "features_valid, features_test, target_valid, target_test = train_test_split(features_rest, \n",
    "                                                                            target_rest, test_size=0.5, random_state=12345)"
   ]
  },
  {
   "cell_type": "code",
   "execution_count": 22,
   "metadata": {},
   "outputs": [
    {
     "name": "stdout",
     "output_type": "stream",
     "text": [
      "Размер обущающей выборки: 6000\n",
      "Размер валидационной выборки: 2000\n",
      "Размер тестовой выборки: 2000\n"
     ]
    }
   ],
   "source": [
    "print('Размер обущающей выборки:', len(features_train))\n",
    "print('Размер валидационной выборки:', len(features_valid))\n",
    "print('Размер тестовой выборки:', len(features_test))"
   ]
  },
  {
   "cell_type": "code",
   "execution_count": 23,
   "metadata": {},
   "outputs": [
    {
     "name": "stdout",
     "output_type": "stream",
     "text": [
      "(6000, 11)\n",
      "(6000,)\n"
     ]
    }
   ],
   "source": [
    "print(features_train.shape)\n",
    "print(target_train.shape)"
   ]
  },
  {
   "cell_type": "markdown",
   "metadata": {},
   "source": [
    "## Исследование задачи"
   ]
  },
  {
   "cell_type": "markdown",
   "metadata": {},
   "source": [
    "Для решения задачи классификации рассмотрим модель DecisionTreeClassifier\n",
    "\n",
    "Найдём лучший параметр (max_depth) для DecisionTreeClassifier  "
   ]
  },
  {
   "cell_type": "code",
   "execution_count": 24,
   "metadata": {
    "scrolled": true
   },
   "outputs": [
    {
     "name": "stdout",
     "output_type": "stream",
     "text": [
      "CPU times: user 564 ms, sys: 0 ns, total: 564 ms\n",
      "Wall time: 598 ms\n"
     ]
    }
   ],
   "source": [
    "%%time\n",
    "\n",
    "best_model_tree = None\n",
    "best_result = 0\n",
    "m_depth = 0\n",
    "for i in range(1,21):\n",
    "    model = DecisionTreeClassifier(max_depth=i, random_state=12345)\n",
    "    model.fit(features_train, target_train)\n",
    "    res = model.score(features_valid, target_valid)\n",
    "    if res > best_result:\n",
    "        best_model_tree = model\n",
    "        best_result = res\n",
    "        max_depth = i     "
   ]
  },
  {
   "cell_type": "code",
   "execution_count": 25,
   "metadata": {},
   "outputs": [
    {
     "name": "stdout",
     "output_type": "stream",
     "text": [
      "6\n",
      "0.858\n"
     ]
    }
   ],
   "source": [
    "print(max_depth)\n",
    "print(best_result)"
   ]
  },
  {
   "cell_type": "markdown",
   "metadata": {},
   "source": [
    "Лучший параметр для DecisionTreeClassifier max_depth = 6. Аккуратность на валидационной выборке равна 0.858\n",
    "\n",
    "Сравним модель с константной моделью"
   ]
  },
  {
   "cell_type": "code",
   "execution_count": 26,
   "metadata": {},
   "outputs": [],
   "source": [
    "best_model_tree.fit(features_train, target_train)\n",
    "predicted_valid = best_model_tree.predict(features_valid)"
   ]
  },
  {
   "cell_type": "code",
   "execution_count": 27,
   "metadata": {
    "scrolled": true
   },
   "outputs": [
    {
     "name": "stdout",
     "output_type": "stream",
     "text": [
      "Аккуратность модели на валидационной выборке: 0.858\n",
      "\n",
      "Аккуратность модели на константной модели: 0.791\n"
     ]
    }
   ],
   "source": [
    "print('Аккуратность модели на валидационной выборке:', accuracy_score(predicted_valid, target_valid))\n",
    "print()\n",
    "predicted_valid_0 = pd.Series(0, index = target_valid.index)\n",
    "print('Аккуратность модели на константной модели:', accuracy_score(predicted_valid_0, target_valid))"
   ]
  },
  {
   "cell_type": "markdown",
   "metadata": {},
   "source": [
    "Аккуратность модели на валидационной выборке незначительно больше чем на константной моделе"
   ]
  },
  {
   "cell_type": "code",
   "execution_count": 28,
   "metadata": {
    "scrolled": false
   },
   "outputs": [
    {
     "name": "stdout",
     "output_type": "stream",
     "text": [
      "0.5696969696969697\n"
     ]
    }
   ],
   "source": [
    "print(f1_score(predicted_valid, target_valid))"
   ]
  },
  {
   "cell_type": "markdown",
   "metadata": {},
   "source": [
    "Метрика f1 неудовлетворительна"
   ]
  },
  {
   "cell_type": "markdown",
   "metadata": {},
   "source": [
    "Рассмотрим модель RandomForestClassifier и определим параметры для этой модели (n-estimators and max_depth)"
   ]
  },
  {
   "cell_type": "code",
   "execution_count": 29,
   "metadata": {},
   "outputs": [
    {
     "name": "stdout",
     "output_type": "stream",
     "text": [
      "CPU times: user 4min 54s, sys: 1.46 s, total: 4min 55s\n",
      "Wall time: 4min 57s\n"
     ]
    }
   ],
   "source": [
    "%%time\n",
    "\n",
    "best_model_random_forest = None\n",
    "best_result = 0\n",
    "n_est = 0\n",
    "m_depth = 0\n",
    "for i in range(1,502,50):\n",
    "    for j in range (1,16):\n",
    "        model = RandomForestClassifier(random_state=12345, n_estimators=i, max_depth=j)\n",
    "        model.fit(features_train, target_train)\n",
    "        prediction = model.predict(features_valid)\n",
    "        res = model.score(features_valid, target_valid)\n",
    "        if res > best_result:\n",
    "            best_model_random_forest = model\n",
    "            best_result = res\n",
    "            n_est = i\n",
    "            m_depth = j      "
   ]
  },
  {
   "cell_type": "code",
   "execution_count": 30,
   "metadata": {},
   "outputs": [
    {
     "name": "stdout",
     "output_type": "stream",
     "text": [
      "0.8665\n",
      "51\n",
      "8\n"
     ]
    }
   ],
   "source": [
    "print(best_result)\n",
    "print(n_est)\n",
    "print(m_depth)"
   ]
  },
  {
   "cell_type": "code",
   "execution_count": null,
   "metadata": {},
   "outputs": [],
   "source": []
  },
  {
   "cell_type": "markdown",
   "metadata": {},
   "source": [
    "Создадим функцию для определения метрик"
   ]
  },
  {
   "cell_type": "code",
   "execution_count": 31,
   "metadata": {},
   "outputs": [],
   "source": [
    "def scores (features, target, model):\n",
    "    predicted = model.predict(features)\n",
    "    probability = model.predict_proba(features)\n",
    "    prob = probability[:,1]\n",
    "    accuracy = accuracy_score(target, predicted)\n",
    "    f1 = f1_score(target, predicted)\n",
    "    roc_auc = roc_auc_score(target, prob)\n",
    "    return (print('accuracy_score:', accuracy, '\\n','f1_score:', f1, '\\n','roc_auc_score:', roc_auc))"
   ]
  },
  {
   "cell_type": "code",
   "execution_count": 32,
   "metadata": {
    "scrolled": true
   },
   "outputs": [
    {
     "name": "stdout",
     "output_type": "stream",
     "text": [
      "accuracy_score: 0.8665 \n",
      " f1_score: 0.5781990521327014 \n",
      " roc_auc_score: 0.8500051415747736\n"
     ]
    }
   ],
   "source": [
    "scores(features_valid, target_valid, best_model_random_forest)"
   ]
  },
  {
   "cell_type": "markdown",
   "metadata": {},
   "source": [
    "Модель RandomForestClassifier оказывается чуть лучше, чем DecisionTreeClassifier"
   ]
  },
  {
   "cell_type": "markdown",
   "metadata": {},
   "source": [
    "Рассмотрим конфигурацию confusion matrix и соотношегние положительных и отрицательных целевых значений в валидационной выборке"
   ]
  },
  {
   "cell_type": "code",
   "execution_count": 33,
   "metadata": {},
   "outputs": [
    {
     "name": "stdout",
     "output_type": "stream",
     "text": [
      "[[1528   54]\n",
      " [ 230  188]]\n"
     ]
    }
   ],
   "source": [
    "print(confusion_matrix(target_valid, predicted_valid))\n",
    "#TN FP\n",
    "#FN TP"
   ]
  },
  {
   "cell_type": "code",
   "execution_count": 34,
   "metadata": {},
   "outputs": [
    {
     "name": "stdout",
     "output_type": "stream",
     "text": [
      "0    1582\n",
      "1     418\n",
      "Name: Exited, dtype: int64\n"
     ]
    }
   ],
   "source": [
    "print(target_valid.value_counts())"
   ]
  },
  {
   "cell_type": "markdown",
   "metadata": {},
   "source": [
    "Присутствует явный дисбаланс в целевых значениях: положительных решений  в три раза меньше чем отрицательных"
   ]
  },
  {
   "cell_type": "markdown",
   "metadata": {},
   "source": [
    "## Борьба с дисбалансом"
   ]
  },
  {
   "cell_type": "markdown",
   "metadata": {},
   "source": [
    "Повторим DecisionTreeClassifier с учетом баланса"
   ]
  },
  {
   "cell_type": "code",
   "execution_count": 35,
   "metadata": {
    "scrolled": true
   },
   "outputs": [
    {
     "name": "stdout",
     "output_type": "stream",
     "text": [
      "CPU times: user 799 ms, sys: 15 µs, total: 799 ms\n",
      "Wall time: 797 ms\n"
     ]
    }
   ],
   "source": [
    "%%time\n",
    "\n",
    "best_model_tree = None\n",
    "best_result = 0\n",
    "m_depth = 0\n",
    "for i in range(1,21):\n",
    "    model = DecisionTreeClassifier(max_depth=i, class_weight='balanced', random_state=12345)\n",
    "    model.fit(features_train, target_train)\n",
    "    res = model.score(features_valid, target_valid)\n",
    "    if res > best_result:\n",
    "        best_model_tree = model\n",
    "        best_result = res\n",
    "        max_depth = i     "
   ]
  },
  {
   "cell_type": "code",
   "execution_count": 36,
   "metadata": {},
   "outputs": [
    {
     "name": "stdout",
     "output_type": "stream",
     "text": [
      "0.8105\n",
      "5\n"
     ]
    }
   ],
   "source": [
    "print(best_result)\n",
    "print(max_depth)"
   ]
  },
  {
   "cell_type": "code",
   "execution_count": 37,
   "metadata": {
    "scrolled": true
   },
   "outputs": [
    {
     "name": "stdout",
     "output_type": "stream",
     "text": [
      "accuracy_score: 0.8105 \n",
      " f1_score: 0.5963791267305644 \n",
      " roc_auc_score: 0.8310244134068074\n"
     ]
    }
   ],
   "source": [
    "scores(features_valid, target_valid, best_model_tree)"
   ]
  },
  {
   "cell_type": "markdown",
   "metadata": {},
   "source": [
    "Результат (accuracy) с учетом class_weight='balanced' стал хуже\n",
    "\n",
    "Попробуем уменьшить дисбаланс вручную путем уменьшения количества значений ведущих к целевому результату 0"
   ]
  },
  {
   "cell_type": "code",
   "execution_count": 38,
   "metadata": {},
   "outputs": [],
   "source": [
    "def downsample(features, target, fraction):\n",
    "    features_zeros = features[target == 0]\n",
    "    features_ones = features[target == 1]\n",
    "    target_zeros = target[target == 0]\n",
    "    target_ones = target[target == 1]\n",
    "\n",
    "    features_downsampled = pd.concat(\n",
    "        [features_zeros.sample(frac=fraction, random_state=12345)] + [features_ones])\n",
    "    target_downsampled = pd.concat(\n",
    "        [target_zeros.sample(frac=fraction, random_state=12345)] + [target_ones])\n",
    "    \n",
    "    features_downsampled, target_downsampled = shuffle(\n",
    "        features_downsampled, target_downsampled, random_state=12345)\n",
    "    \n",
    "    return features_downsampled, target_downsampled\n",
    "\n",
    "features_downsampled, target_downsampled = downsample(features_train, target_train, 0.25)\n"
   ]
  },
  {
   "cell_type": "markdown",
   "metadata": {},
   "source": [
    "И проверим получившиеся соотношения целевых ответов"
   ]
  },
  {
   "cell_type": "code",
   "execution_count": 39,
   "metadata": {
    "scrolled": true
   },
   "outputs": [
    {
     "data": {
      "text/plain": [
       "0    1201\n",
       "1    1196\n",
       "Name: Exited, dtype: int64"
      ]
     },
     "execution_count": 39,
     "metadata": {},
     "output_type": "execute_result"
    }
   ],
   "source": [
    "target_downsampled.value_counts()"
   ]
  },
  {
   "cell_type": "markdown",
   "metadata": {},
   "source": [
    "И проведём тестирование моделей DecisionTreeClassifier и RandomForestClassifier"
   ]
  },
  {
   "cell_type": "code",
   "execution_count": 40,
   "metadata": {},
   "outputs": [
    {
     "name": "stdout",
     "output_type": "stream",
     "text": [
      "CPU times: user 249 ms, sys: 4.01 ms, total: 253 ms\n",
      "Wall time: 264 ms\n"
     ]
    }
   ],
   "source": [
    "%%time\n",
    "\n",
    "best_model_tree = None\n",
    "best_result = 0\n",
    "m_depth = 0\n",
    "for i in range(1,21):\n",
    "    model = DecisionTreeClassifier(max_depth=i, class_weight='balanced', random_state=12345)\n",
    "    model.fit(features_downsampled, target_downsampled)\n",
    "    res = model.score(features_valid, target_valid)\n",
    "    if res > best_result:\n",
    "        best_model_tree = model\n",
    "        best_result = res\n",
    "        max_depth = i     "
   ]
  },
  {
   "cell_type": "code",
   "execution_count": 41,
   "metadata": {},
   "outputs": [
    {
     "name": "stdout",
     "output_type": "stream",
     "text": [
      "0.799\n",
      "5\n"
     ]
    }
   ],
   "source": [
    "print(best_result)\n",
    "print(max_depth)"
   ]
  },
  {
   "cell_type": "code",
   "execution_count": 42,
   "metadata": {
    "scrolled": true
   },
   "outputs": [
    {
     "name": "stdout",
     "output_type": "stream",
     "text": [
      "accuracy_score: 0.799 \n",
      " f1_score: 0.5931174089068827 \n",
      " roc_auc_score: 0.82291433531536\n"
     ]
    }
   ],
   "source": [
    "scores(features_valid, target_valid, best_model_tree)"
   ]
  },
  {
   "cell_type": "code",
   "execution_count": 43,
   "metadata": {},
   "outputs": [
    {
     "name": "stdout",
     "output_type": "stream",
     "text": [
      "CPU times: user 2min 55s, sys: 804 ms, total: 2min 55s\n",
      "Wall time: 2min 56s\n"
     ]
    }
   ],
   "source": [
    "%%time\n",
    "\n",
    "best_model_random_forest = None\n",
    "best_result = 0\n",
    "n_est = 0\n",
    "m_depth = 0\n",
    "for i in range(1,502,50):\n",
    "    for j in range (1,16):\n",
    "        model = RandomForestClassifier(random_state=12345, n_estimators=i, max_depth=j)\n",
    "        model.fit(features_downsampled, target_downsampled)\n",
    "        prediction = model.predict(features_valid)\n",
    "        res = model.score(features_valid, target_valid)\n",
    "        if res > best_result:\n",
    "            best_model_random_forest = model\n",
    "            best_result = res\n",
    "            n_est = i\n",
    "            m_depth = j      "
   ]
  },
  {
   "cell_type": "code",
   "execution_count": 44,
   "metadata": {},
   "outputs": [
    {
     "name": "stdout",
     "output_type": "stream",
     "text": [
      "0.8155\n",
      "1\n",
      "1\n"
     ]
    }
   ],
   "source": [
    "print(best_result)\n",
    "print(n_est)\n",
    "print(m_depth)"
   ]
  },
  {
   "cell_type": "code",
   "execution_count": 45,
   "metadata": {
    "scrolled": true
   },
   "outputs": [
    {
     "name": "stdout",
     "output_type": "stream",
     "text": [
      "accuracy_score: 0.8155 \n",
      " f1_score: 0.2484725050916497 \n",
      " roc_auc_score: 0.5691738396675518\n"
     ]
    }
   ],
   "source": [
    "scores(features_valid, target_valid, best_model_random_forest)"
   ]
  },
  {
   "cell_type": "markdown",
   "metadata": {},
   "source": [
    "В обоих случаях результат хуже, чем без учета дисбаланса"
   ]
  },
  {
   "cell_type": "markdown",
   "metadata": {},
   "source": [
    "Попробуем уменьшить дисбаланс вручную путем увеличения количества значений ведущих к цепевому результату 1"
   ]
  },
  {
   "cell_type": "code",
   "execution_count": 46,
   "metadata": {},
   "outputs": [],
   "source": [
    "def upsample(features, target, repeat):\n",
    "    features_zeros = features[target == 0]\n",
    "    features_ones = features[target == 1]\n",
    "    target_zeros = target[target == 0]\n",
    "    target_ones = target[target == 1]\n",
    "\n",
    "    features_upsampled = pd.concat([features_zeros] + [features_ones] * repeat)\n",
    "    target_upsampled = pd.concat([target_zeros] + [target_ones] * repeat)\n",
    "    \n",
    "    features_upsampled, target_upsampled = shuffle(\n",
    "        features_upsampled, target_upsampled, random_state=12345)\n",
    "    \n",
    "    return features_upsampled, target_upsampled\n",
    "\n",
    "features_upsampled, target_upsampled = upsample(features_train, target_train, 4)\n"
   ]
  },
  {
   "cell_type": "code",
   "execution_count": 47,
   "metadata": {},
   "outputs": [
    {
     "data": {
      "text/plain": [
       "0    4804\n",
       "1    4784\n",
       "Name: Exited, dtype: int64"
      ]
     },
     "execution_count": 47,
     "metadata": {},
     "output_type": "execute_result"
    }
   ],
   "source": [
    "target_upsampled.value_counts()"
   ]
  },
  {
   "cell_type": "code",
   "execution_count": 48,
   "metadata": {},
   "outputs": [
    {
     "name": "stdout",
     "output_type": "stream",
     "text": [
      "CPU times: user 7min 42s, sys: 1.66 s, total: 7min 43s\n",
      "Wall time: 7min 45s\n"
     ]
    }
   ],
   "source": [
    "%%time\n",
    "\n",
    "best_model_random_forest = None\n",
    "best_result = 0\n",
    "n_est = 0\n",
    "m_depth = 0\n",
    "for i in range(1,502,50):\n",
    "    for j in range (1,16):\n",
    "        model = RandomForestClassifier(random_state=12345, n_estimators=i, max_depth=j)\n",
    "        model.fit(features_upsampled, target_upsampled)\n",
    "        prediction = model.predict(features_valid)\n",
    "        res = model.score(features_valid, target_valid)\n",
    "        if res > best_result:\n",
    "            best_model_random_forest = model\n",
    "            best_result = res\n",
    "            n_est = i\n",
    "            m_depth = j      "
   ]
  },
  {
   "cell_type": "code",
   "execution_count": 49,
   "metadata": {},
   "outputs": [
    {
     "name": "stdout",
     "output_type": "stream",
     "text": [
      "0.8495\n",
      "451\n",
      "15\n"
     ]
    }
   ],
   "source": [
    "print(best_result)\n",
    "print(n_est)\n",
    "print(m_depth)"
   ]
  },
  {
   "cell_type": "code",
   "execution_count": 50,
   "metadata": {
    "scrolled": true
   },
   "outputs": [
    {
     "name": "stdout",
     "output_type": "stream",
     "text": [
      "accuracy_score: 0.8495 \n",
      " f1_score: 0.6165605095541401 \n",
      " roc_auc_score: 0.844558096770486\n"
     ]
    }
   ],
   "source": [
    "scores(features_valid, target_valid, best_model_random_forest)"
   ]
  },
  {
   "cell_type": "markdown",
   "metadata": {},
   "source": [
    "После upscaling аккуратность незначительно ухудшилась (с 0.866 до 0.8495), но ощутимо возросла метрика f1_score (c 0.577 до 0.6165)"
   ]
  },
  {
   "cell_type": "markdown",
   "metadata": {},
   "source": [
    "Возможно необходимо учесть разницу в масштабе значений в признаках (доход, баланс)\n",
    "\n",
    "Проведем масштабирование значений"
   ]
  },
  {
   "cell_type": "code",
   "execution_count": 51,
   "metadata": {},
   "outputs": [
    {
     "name": "stderr",
     "output_type": "stream",
     "text": [
      "/opt/conda/lib/python3.7/site-packages/ipykernel_launcher.py:3: SettingWithCopyWarning: \n",
      "A value is trying to be set on a copy of a slice from a DataFrame.\n",
      "Try using .loc[row_indexer,col_indexer] = value instead\n",
      "\n",
      "See the caveats in the documentation: http://pandas.pydata.org/pandas-docs/stable/user_guide/indexing.html#returning-a-view-versus-a-copy\n",
      "  This is separate from the ipykernel package so we can avoid doing imports until\n",
      "/opt/conda/lib/python3.7/site-packages/pandas/core/indexing.py:494: SettingWithCopyWarning: \n",
      "A value is trying to be set on a copy of a slice from a DataFrame.\n",
      "Try using .loc[row_indexer,col_indexer] = value instead\n",
      "\n",
      "See the caveats in the documentation: http://pandas.pydata.org/pandas-docs/stable/user_guide/indexing.html#returning-a-view-versus-a-copy\n",
      "  self.obj[item] = s\n",
      "/opt/conda/lib/python3.7/site-packages/ipykernel_launcher.py:4: SettingWithCopyWarning: \n",
      "A value is trying to be set on a copy of a slice from a DataFrame.\n",
      "Try using .loc[row_indexer,col_indexer] = value instead\n",
      "\n",
      "See the caveats in the documentation: http://pandas.pydata.org/pandas-docs/stable/user_guide/indexing.html#returning-a-view-versus-a-copy\n",
      "  after removing the cwd from sys.path.\n",
      "/opt/conda/lib/python3.7/site-packages/pandas/core/indexing.py:494: SettingWithCopyWarning: \n",
      "A value is trying to be set on a copy of a slice from a DataFrame.\n",
      "Try using .loc[row_indexer,col_indexer] = value instead\n",
      "\n",
      "See the caveats in the documentation: http://pandas.pydata.org/pandas-docs/stable/user_guide/indexing.html#returning-a-view-versus-a-copy\n",
      "  self.obj[item] = s\n",
      "/opt/conda/lib/python3.7/site-packages/ipykernel_launcher.py:5: SettingWithCopyWarning: \n",
      "A value is trying to be set on a copy of a slice from a DataFrame.\n",
      "Try using .loc[row_indexer,col_indexer] = value instead\n",
      "\n",
      "See the caveats in the documentation: http://pandas.pydata.org/pandas-docs/stable/user_guide/indexing.html#returning-a-view-versus-a-copy\n",
      "  \"\"\"\n",
      "/opt/conda/lib/python3.7/site-packages/pandas/core/indexing.py:494: SettingWithCopyWarning: \n",
      "A value is trying to be set on a copy of a slice from a DataFrame.\n",
      "Try using .loc[row_indexer,col_indexer] = value instead\n",
      "\n",
      "See the caveats in the documentation: http://pandas.pydata.org/pandas-docs/stable/user_guide/indexing.html#returning-a-view-versus-a-copy\n",
      "  self.obj[item] = s\n"
     ]
    }
   ],
   "source": [
    "scaler = StandardScaler()\n",
    "scaler.fit(features_train[numeric])\n",
    "features_train[numeric] = scaler.transform(features_train[numeric])\n",
    "features_valid[numeric] = scaler.transform(features_valid[numeric])\n",
    "features_test[numeric] = scaler.transform(features_test[numeric])"
   ]
  },
  {
   "cell_type": "code",
   "execution_count": 52,
   "metadata": {},
   "outputs": [
    {
     "data": {
      "text/html": [
       "<div>\n",
       "<style scoped>\n",
       "    .dataframe tbody tr th:only-of-type {\n",
       "        vertical-align: middle;\n",
       "    }\n",
       "\n",
       "    .dataframe tbody tr th {\n",
       "        vertical-align: top;\n",
       "    }\n",
       "\n",
       "    .dataframe thead th {\n",
       "        text-align: right;\n",
       "    }\n",
       "</style>\n",
       "<table border=\"1\" class=\"dataframe\">\n",
       "  <thead>\n",
       "    <tr style=\"text-align: right;\">\n",
       "      <th></th>\n",
       "      <th>CreditScore</th>\n",
       "      <th>Age</th>\n",
       "      <th>Tenure</th>\n",
       "      <th>Balance</th>\n",
       "      <th>NumOfProducts</th>\n",
       "      <th>HasCrCard</th>\n",
       "      <th>IsActiveMember</th>\n",
       "      <th>EstimatedSalary</th>\n",
       "      <th>Geography_Germany</th>\n",
       "      <th>Geography_Spain</th>\n",
       "      <th>Gender_Male</th>\n",
       "    </tr>\n",
       "  </thead>\n",
       "  <tbody>\n",
       "    <tr>\n",
       "      <td>7479</td>\n",
       "      <td>-0.886751</td>\n",
       "      <td>-0.373192</td>\n",
       "      <td>1.042002</td>\n",
       "      <td>1.232271</td>\n",
       "      <td>1</td>\n",
       "      <td>1</td>\n",
       "      <td>0</td>\n",
       "      <td>-0.187705</td>\n",
       "      <td>0</td>\n",
       "      <td>1</td>\n",
       "      <td>1</td>\n",
       "    </tr>\n",
       "    <tr>\n",
       "      <td>3411</td>\n",
       "      <td>0.608663</td>\n",
       "      <td>-0.183385</td>\n",
       "      <td>1.042002</td>\n",
       "      <td>0.600563</td>\n",
       "      <td>1</td>\n",
       "      <td>0</td>\n",
       "      <td>0</td>\n",
       "      <td>-0.333945</td>\n",
       "      <td>0</td>\n",
       "      <td>0</td>\n",
       "      <td>0</td>\n",
       "    </tr>\n",
       "    <tr>\n",
       "      <td>6027</td>\n",
       "      <td>2.052152</td>\n",
       "      <td>0.480939</td>\n",
       "      <td>-0.689762</td>\n",
       "      <td>1.027098</td>\n",
       "      <td>2</td>\n",
       "      <td>0</td>\n",
       "      <td>1</td>\n",
       "      <td>1.503095</td>\n",
       "      <td>1</td>\n",
       "      <td>0</td>\n",
       "      <td>1</td>\n",
       "    </tr>\n",
       "    <tr>\n",
       "      <td>1247</td>\n",
       "      <td>-1.457915</td>\n",
       "      <td>-1.417129</td>\n",
       "      <td>0.349297</td>\n",
       "      <td>-1.233163</td>\n",
       "      <td>2</td>\n",
       "      <td>1</td>\n",
       "      <td>0</td>\n",
       "      <td>-1.071061</td>\n",
       "      <td>0</td>\n",
       "      <td>0</td>\n",
       "      <td>1</td>\n",
       "    </tr>\n",
       "    <tr>\n",
       "      <td>3716</td>\n",
       "      <td>0.130961</td>\n",
       "      <td>-1.132419</td>\n",
       "      <td>-1.036114</td>\n",
       "      <td>1.140475</td>\n",
       "      <td>1</td>\n",
       "      <td>0</td>\n",
       "      <td>0</td>\n",
       "      <td>1.524268</td>\n",
       "      <td>1</td>\n",
       "      <td>0</td>\n",
       "      <td>0</td>\n",
       "    </tr>\n",
       "  </tbody>\n",
       "</table>\n",
       "</div>"
      ],
      "text/plain": [
       "      CreditScore       Age    Tenure   Balance  NumOfProducts  HasCrCard  \\\n",
       "7479    -0.886751 -0.373192  1.042002  1.232271              1          1   \n",
       "3411     0.608663 -0.183385  1.042002  0.600563              1          0   \n",
       "6027     2.052152  0.480939 -0.689762  1.027098              2          0   \n",
       "1247    -1.457915 -1.417129  0.349297 -1.233163              2          1   \n",
       "3716     0.130961 -1.132419 -1.036114  1.140475              1          0   \n",
       "\n",
       "      IsActiveMember  EstimatedSalary  Geography_Germany  Geography_Spain  \\\n",
       "7479               0        -0.187705                  0                1   \n",
       "3411               0        -0.333945                  0                0   \n",
       "6027               1         1.503095                  1                0   \n",
       "1247               0        -1.071061                  0                0   \n",
       "3716               0         1.524268                  1                0   \n",
       "\n",
       "      Gender_Male  \n",
       "7479            1  \n",
       "3411            0  \n",
       "6027            1  \n",
       "1247            1  \n",
       "3716            0  "
      ]
     },
     "metadata": {},
     "output_type": "display_data"
    },
    {
     "data": {
      "text/html": [
       "<div>\n",
       "<style scoped>\n",
       "    .dataframe tbody tr th:only-of-type {\n",
       "        vertical-align: middle;\n",
       "    }\n",
       "\n",
       "    .dataframe tbody tr th {\n",
       "        vertical-align: top;\n",
       "    }\n",
       "\n",
       "    .dataframe thead th {\n",
       "        text-align: right;\n",
       "    }\n",
       "</style>\n",
       "<table border=\"1\" class=\"dataframe\">\n",
       "  <thead>\n",
       "    <tr style=\"text-align: right;\">\n",
       "      <th></th>\n",
       "      <th>CreditScore</th>\n",
       "      <th>Age</th>\n",
       "      <th>Tenure</th>\n",
       "      <th>Balance</th>\n",
       "      <th>NumOfProducts</th>\n",
       "      <th>HasCrCard</th>\n",
       "      <th>IsActiveMember</th>\n",
       "      <th>EstimatedSalary</th>\n",
       "      <th>Geography_Germany</th>\n",
       "      <th>Geography_Spain</th>\n",
       "      <th>Gender_Male</th>\n",
       "    </tr>\n",
       "  </thead>\n",
       "  <tbody>\n",
       "    <tr>\n",
       "      <td>8532</td>\n",
       "      <td>-0.699824</td>\n",
       "      <td>-0.373192</td>\n",
       "      <td>-1.036114</td>\n",
       "      <td>-1.233163</td>\n",
       "      <td>2</td>\n",
       "      <td>1</td>\n",
       "      <td>0</td>\n",
       "      <td>-0.015173</td>\n",
       "      <td>0</td>\n",
       "      <td>0</td>\n",
       "      <td>0</td>\n",
       "    </tr>\n",
       "    <tr>\n",
       "      <td>5799</td>\n",
       "      <td>-0.284431</td>\n",
       "      <td>0.575842</td>\n",
       "      <td>-0.689762</td>\n",
       "      <td>-1.233163</td>\n",
       "      <td>1</td>\n",
       "      <td>1</td>\n",
       "      <td>1</td>\n",
       "      <td>1.471724</td>\n",
       "      <td>0</td>\n",
       "      <td>0</td>\n",
       "      <td>0</td>\n",
       "    </tr>\n",
       "    <tr>\n",
       "      <td>5511</td>\n",
       "      <td>0.151731</td>\n",
       "      <td>-0.657902</td>\n",
       "      <td>-1.728820</td>\n",
       "      <td>0.438711</td>\n",
       "      <td>1</td>\n",
       "      <td>1</td>\n",
       "      <td>0</td>\n",
       "      <td>-1.367107</td>\n",
       "      <td>1</td>\n",
       "      <td>0</td>\n",
       "      <td>1</td>\n",
       "    </tr>\n",
       "    <tr>\n",
       "      <td>7365</td>\n",
       "      <td>-0.876366</td>\n",
       "      <td>-0.278288</td>\n",
       "      <td>1.734708</td>\n",
       "      <td>1.239884</td>\n",
       "      <td>1</td>\n",
       "      <td>1</td>\n",
       "      <td>1</td>\n",
       "      <td>-0.786517</td>\n",
       "      <td>0</td>\n",
       "      <td>1</td>\n",
       "      <td>0</td>\n",
       "    </tr>\n",
       "    <tr>\n",
       "      <td>7367</td>\n",
       "      <td>-0.481743</td>\n",
       "      <td>0.291132</td>\n",
       "      <td>1.734708</td>\n",
       "      <td>-1.233163</td>\n",
       "      <td>2</td>\n",
       "      <td>1</td>\n",
       "      <td>0</td>\n",
       "      <td>1.358533</td>\n",
       "      <td>0</td>\n",
       "      <td>1</td>\n",
       "      <td>1</td>\n",
       "    </tr>\n",
       "  </tbody>\n",
       "</table>\n",
       "</div>"
      ],
      "text/plain": [
       "      CreditScore       Age    Tenure   Balance  NumOfProducts  HasCrCard  \\\n",
       "8532    -0.699824 -0.373192 -1.036114 -1.233163              2          1   \n",
       "5799    -0.284431  0.575842 -0.689762 -1.233163              1          1   \n",
       "5511     0.151731 -0.657902 -1.728820  0.438711              1          1   \n",
       "7365    -0.876366 -0.278288  1.734708  1.239884              1          1   \n",
       "7367    -0.481743  0.291132  1.734708 -1.233163              2          1   \n",
       "\n",
       "      IsActiveMember  EstimatedSalary  Geography_Germany  Geography_Spain  \\\n",
       "8532               0        -0.015173                  0                0   \n",
       "5799               1         1.471724                  0                0   \n",
       "5511               0        -1.367107                  1                0   \n",
       "7365               1        -0.786517                  0                1   \n",
       "7367               0         1.358533                  0                1   \n",
       "\n",
       "      Gender_Male  \n",
       "8532            0  \n",
       "5799            0  \n",
       "5511            1  \n",
       "7365            0  \n",
       "7367            1  "
      ]
     },
     "metadata": {},
     "output_type": "display_data"
    },
    {
     "data": {
      "text/html": [
       "<div>\n",
       "<style scoped>\n",
       "    .dataframe tbody tr th:only-of-type {\n",
       "        vertical-align: middle;\n",
       "    }\n",
       "\n",
       "    .dataframe tbody tr th {\n",
       "        vertical-align: top;\n",
       "    }\n",
       "\n",
       "    .dataframe thead th {\n",
       "        text-align: right;\n",
       "    }\n",
       "</style>\n",
       "<table border=\"1\" class=\"dataframe\">\n",
       "  <thead>\n",
       "    <tr style=\"text-align: right;\">\n",
       "      <th></th>\n",
       "      <th>CreditScore</th>\n",
       "      <th>Age</th>\n",
       "      <th>Tenure</th>\n",
       "      <th>Balance</th>\n",
       "      <th>NumOfProducts</th>\n",
       "      <th>HasCrCard</th>\n",
       "      <th>IsActiveMember</th>\n",
       "      <th>EstimatedSalary</th>\n",
       "      <th>Geography_Germany</th>\n",
       "      <th>Geography_Spain</th>\n",
       "      <th>Gender_Male</th>\n",
       "    </tr>\n",
       "  </thead>\n",
       "  <tbody>\n",
       "    <tr>\n",
       "      <td>7041</td>\n",
       "      <td>-2.226392</td>\n",
       "      <td>-0.088482</td>\n",
       "      <td>-1.036114</td>\n",
       "      <td>-1.233163</td>\n",
       "      <td>2</td>\n",
       "      <td>1</td>\n",
       "      <td>0</td>\n",
       "      <td>0.647083</td>\n",
       "      <td>0</td>\n",
       "      <td>0</td>\n",
       "      <td>1</td>\n",
       "    </tr>\n",
       "    <tr>\n",
       "      <td>5709</td>\n",
       "      <td>-0.087120</td>\n",
       "      <td>0.006422</td>\n",
       "      <td>1.388355</td>\n",
       "      <td>-1.233163</td>\n",
       "      <td>1</td>\n",
       "      <td>1</td>\n",
       "      <td>0</td>\n",
       "      <td>-1.658410</td>\n",
       "      <td>0</td>\n",
       "      <td>0</td>\n",
       "      <td>0</td>\n",
       "    </tr>\n",
       "    <tr>\n",
       "      <td>7117</td>\n",
       "      <td>-0.917905</td>\n",
       "      <td>-0.752805</td>\n",
       "      <td>0.002944</td>\n",
       "      <td>0.722307</td>\n",
       "      <td>1</td>\n",
       "      <td>1</td>\n",
       "      <td>1</td>\n",
       "      <td>-1.369334</td>\n",
       "      <td>0</td>\n",
       "      <td>1</td>\n",
       "      <td>1</td>\n",
       "    </tr>\n",
       "    <tr>\n",
       "      <td>7775</td>\n",
       "      <td>-0.253277</td>\n",
       "      <td>0.101325</td>\n",
       "      <td>1.734708</td>\n",
       "      <td>-1.233163</td>\n",
       "      <td>2</td>\n",
       "      <td>1</td>\n",
       "      <td>0</td>\n",
       "      <td>0.075086</td>\n",
       "      <td>0</td>\n",
       "      <td>1</td>\n",
       "      <td>1</td>\n",
       "    </tr>\n",
       "    <tr>\n",
       "      <td>8735</td>\n",
       "      <td>0.785204</td>\n",
       "      <td>-0.847708</td>\n",
       "      <td>1.734708</td>\n",
       "      <td>0.615625</td>\n",
       "      <td>1</td>\n",
       "      <td>0</td>\n",
       "      <td>1</td>\n",
       "      <td>-1.070919</td>\n",
       "      <td>0</td>\n",
       "      <td>0</td>\n",
       "      <td>1</td>\n",
       "    </tr>\n",
       "  </tbody>\n",
       "</table>\n",
       "</div>"
      ],
      "text/plain": [
       "      CreditScore       Age    Tenure   Balance  NumOfProducts  HasCrCard  \\\n",
       "7041    -2.226392 -0.088482 -1.036114 -1.233163              2          1   \n",
       "5709    -0.087120  0.006422  1.388355 -1.233163              1          1   \n",
       "7117    -0.917905 -0.752805  0.002944  0.722307              1          1   \n",
       "7775    -0.253277  0.101325  1.734708 -1.233163              2          1   \n",
       "8735     0.785204 -0.847708  1.734708  0.615625              1          0   \n",
       "\n",
       "      IsActiveMember  EstimatedSalary  Geography_Germany  Geography_Spain  \\\n",
       "7041               0         0.647083                  0                0   \n",
       "5709               0        -1.658410                  0                0   \n",
       "7117               1        -1.369334                  0                1   \n",
       "7775               0         0.075086                  0                1   \n",
       "8735               1        -1.070919                  0                0   \n",
       "\n",
       "      Gender_Male  \n",
       "7041            1  \n",
       "5709            0  \n",
       "7117            1  \n",
       "7775            1  \n",
       "8735            1  "
      ]
     },
     "metadata": {},
     "output_type": "display_data"
    }
   ],
   "source": [
    "display(features_train.head())\n",
    "display(features_valid.head())\n",
    "display(features_test.head())"
   ]
  },
  {
   "cell_type": "markdown",
   "metadata": {},
   "source": [
    "Проведём подборку параметров для раздичных моделей.\n",
    "\n",
    "Начнем с DecisionTreeClassifier без учета class_weight='balanced' "
   ]
  },
  {
   "cell_type": "code",
   "execution_count": 53,
   "metadata": {},
   "outputs": [
    {
     "name": "stdout",
     "output_type": "stream",
     "text": [
      "CPU times: user 553 ms, sys: 5 µs, total: 553 ms\n",
      "Wall time: 564 ms\n"
     ]
    }
   ],
   "source": [
    "%%time\n",
    "\n",
    "best_model_tree = None\n",
    "best_result = 0\n",
    "m_depth = 0\n",
    "for i in range(1,21):\n",
    "    model = DecisionTreeClassifier(max_depth=i, random_state=12345)\n",
    "    model.fit(features_train, target_train)\n",
    "    res = model.score(features_valid, target_valid)\n",
    "    if res > best_result:\n",
    "        best_model_tree = model\n",
    "        best_result = res\n",
    "        max_depth = i   "
   ]
  },
  {
   "cell_type": "code",
   "execution_count": 54,
   "metadata": {},
   "outputs": [
    {
     "name": "stdout",
     "output_type": "stream",
     "text": [
      "0.858\n",
      "6\n"
     ]
    }
   ],
   "source": [
    "print(best_result)\n",
    "print(max_depth)"
   ]
  },
  {
   "cell_type": "code",
   "execution_count": 55,
   "metadata": {
    "scrolled": true
   },
   "outputs": [
    {
     "name": "stdout",
     "output_type": "stream",
     "text": [
      "accuracy_score: 0.858 \n",
      " f1_score: 0.5696969696969697 \n",
      " roc_auc_score: 0.8164631712023421\n"
     ]
    }
   ],
   "source": [
    "scores(features_valid, target_valid, best_model_tree)"
   ]
  },
  {
   "cell_type": "markdown",
   "metadata": {},
   "source": [
    "Почему-то результат тот же, что и без масштабирования"
   ]
  },
  {
   "cell_type": "markdown",
   "metadata": {},
   "source": [
    "Подберем метрики для RandomForestClassifier"
   ]
  },
  {
   "cell_type": "code",
   "execution_count": 56,
   "metadata": {},
   "outputs": [
    {
     "name": "stdout",
     "output_type": "stream",
     "text": [
      "CPU times: user 20.5 s, sys: 76 ms, total: 20.6 s\n",
      "Wall time: 20.7 s\n"
     ]
    }
   ],
   "source": [
    "%%time\n",
    "\n",
    "best_model_random_forest = None\n",
    "best_result = 0\n",
    "n_est = 0\n",
    "m_depth = 0\n",
    "for i in range(1,20):\n",
    "    for j in range (1,16):\n",
    "        model = RandomForestClassifier(random_state=12345, n_estimators=i, max_depth=j)\n",
    "        model.fit(features_train, target_train)\n",
    "        res = model.score(features_valid, target_valid)\n",
    "        if res > best_result:\n",
    "            best_model_random_forest = model\n",
    "            best_result = res\n",
    "            n_est = i\n",
    "            max_depth = j      "
   ]
  },
  {
   "cell_type": "code",
   "execution_count": 57,
   "metadata": {},
   "outputs": [
    {
     "name": "stdout",
     "output_type": "stream",
     "text": [
      "0.864\n",
      "n_est: 17 max_depth: 8\n"
     ]
    }
   ],
   "source": [
    "print(best_result)\n",
    "print('n_est:', n_est, 'max_depth:', max_depth)"
   ]
  },
  {
   "cell_type": "code",
   "execution_count": 58,
   "metadata": {
    "scrolled": true
   },
   "outputs": [
    {
     "name": "stdout",
     "output_type": "stream",
     "text": [
      "accuracy_score: 0.864 \n",
      " f1_score: 0.5709779179810726 \n",
      " roc_auc_score: 0.849344297993576\n"
     ]
    }
   ],
   "source": [
    "scores(features_valid, target_valid, best_model_random_forest)"
   ]
  },
  {
   "cell_type": "markdown",
   "metadata": {},
   "source": [
    "Опять аккуратность модели после масштабирования та же, что и без"
   ]
  },
  {
   "cell_type": "markdown",
   "metadata": {},
   "source": [
    "Проведём upscaling масштабированных признаков"
   ]
  },
  {
   "cell_type": "code",
   "execution_count": 59,
   "metadata": {},
   "outputs": [],
   "source": [
    "features_upsampled, target_upsampled = upsample(features_train, target_train, 4)"
   ]
  },
  {
   "cell_type": "code",
   "execution_count": 60,
   "metadata": {},
   "outputs": [
    {
     "data": {
      "text/plain": [
       "0    4804\n",
       "1    4784\n",
       "Name: Exited, dtype: int64"
      ]
     },
     "execution_count": 60,
     "metadata": {},
     "output_type": "execute_result"
    }
   ],
   "source": [
    "target_upsampled.value_counts()"
   ]
  },
  {
   "cell_type": "code",
   "execution_count": 61,
   "metadata": {},
   "outputs": [
    {
     "data": {
      "text/html": [
       "<div>\n",
       "<style scoped>\n",
       "    .dataframe tbody tr th:only-of-type {\n",
       "        vertical-align: middle;\n",
       "    }\n",
       "\n",
       "    .dataframe tbody tr th {\n",
       "        vertical-align: top;\n",
       "    }\n",
       "\n",
       "    .dataframe thead th {\n",
       "        text-align: right;\n",
       "    }\n",
       "</style>\n",
       "<table border=\"1\" class=\"dataframe\">\n",
       "  <thead>\n",
       "    <tr style=\"text-align: right;\">\n",
       "      <th></th>\n",
       "      <th>CreditScore</th>\n",
       "      <th>Age</th>\n",
       "      <th>Tenure</th>\n",
       "      <th>Balance</th>\n",
       "      <th>NumOfProducts</th>\n",
       "      <th>HasCrCard</th>\n",
       "      <th>IsActiveMember</th>\n",
       "      <th>EstimatedSalary</th>\n",
       "      <th>Geography_Germany</th>\n",
       "      <th>Geography_Spain</th>\n",
       "      <th>Gender_Male</th>\n",
       "    </tr>\n",
       "  </thead>\n",
       "  <tbody>\n",
       "    <tr>\n",
       "      <td>3637</td>\n",
       "      <td>2.000228</td>\n",
       "      <td>1.240166</td>\n",
       "      <td>-1.728820</td>\n",
       "      <td>-1.233163</td>\n",
       "      <td>1</td>\n",
       "      <td>1</td>\n",
       "      <td>0</td>\n",
       "      <td>-1.173721</td>\n",
       "      <td>0</td>\n",
       "      <td>1</td>\n",
       "      <td>0</td>\n",
       "    </tr>\n",
       "    <tr>\n",
       "      <td>3248</td>\n",
       "      <td>-1.416376</td>\n",
       "      <td>-0.373192</td>\n",
       "      <td>0.002944</td>\n",
       "      <td>0.838089</td>\n",
       "      <td>1</td>\n",
       "      <td>1</td>\n",
       "      <td>0</td>\n",
       "      <td>0.485993</td>\n",
       "      <td>0</td>\n",
       "      <td>0</td>\n",
       "      <td>1</td>\n",
       "    </tr>\n",
       "    <tr>\n",
       "      <td>7516</td>\n",
       "      <td>-0.087120</td>\n",
       "      <td>0.101325</td>\n",
       "      <td>1.042002</td>\n",
       "      <td>0.267035</td>\n",
       "      <td>1</td>\n",
       "      <td>1</td>\n",
       "      <td>0</td>\n",
       "      <td>-0.443622</td>\n",
       "      <td>0</td>\n",
       "      <td>0</td>\n",
       "      <td>1</td>\n",
       "    </tr>\n",
       "    <tr>\n",
       "      <td>7542</td>\n",
       "      <td>-1.509840</td>\n",
       "      <td>-0.468095</td>\n",
       "      <td>-0.343409</td>\n",
       "      <td>-1.233163</td>\n",
       "      <td>2</td>\n",
       "      <td>1</td>\n",
       "      <td>1</td>\n",
       "      <td>-0.672132</td>\n",
       "      <td>0</td>\n",
       "      <td>1</td>\n",
       "      <td>0</td>\n",
       "    </tr>\n",
       "    <tr>\n",
       "      <td>3490</td>\n",
       "      <td>-2.070620</td>\n",
       "      <td>-0.942612</td>\n",
       "      <td>-1.382467</td>\n",
       "      <td>-1.233163</td>\n",
       "      <td>1</td>\n",
       "      <td>0</td>\n",
       "      <td>0</td>\n",
       "      <td>1.712492</td>\n",
       "      <td>0</td>\n",
       "      <td>0</td>\n",
       "      <td>1</td>\n",
       "    </tr>\n",
       "  </tbody>\n",
       "</table>\n",
       "</div>"
      ],
      "text/plain": [
       "      CreditScore       Age    Tenure   Balance  NumOfProducts  HasCrCard  \\\n",
       "3637     2.000228  1.240166 -1.728820 -1.233163              1          1   \n",
       "3248    -1.416376 -0.373192  0.002944  0.838089              1          1   \n",
       "7516    -0.087120  0.101325  1.042002  0.267035              1          1   \n",
       "7542    -1.509840 -0.468095 -0.343409 -1.233163              2          1   \n",
       "3490    -2.070620 -0.942612 -1.382467 -1.233163              1          0   \n",
       "\n",
       "      IsActiveMember  EstimatedSalary  Geography_Germany  Geography_Spain  \\\n",
       "3637               0        -1.173721                  0                1   \n",
       "3248               0         0.485993                  0                0   \n",
       "7516               0        -0.443622                  0                0   \n",
       "7542               1        -0.672132                  0                1   \n",
       "3490               0         1.712492                  0                0   \n",
       "\n",
       "      Gender_Male  \n",
       "3637            0  \n",
       "3248            1  \n",
       "7516            1  \n",
       "7542            0  \n",
       "3490            1  "
      ]
     },
     "metadata": {},
     "output_type": "display_data"
    }
   ],
   "source": [
    "display(features_upsampled.head())"
   ]
  },
  {
   "cell_type": "code",
   "execution_count": 62,
   "metadata": {},
   "outputs": [
    {
     "name": "stdout",
     "output_type": "stream",
     "text": [
      "CPU times: user 8min 8s, sys: 1.03 s, total: 8min 9s\n",
      "Wall time: 8min 10s\n"
     ]
    }
   ],
   "source": [
    "%%time\n",
    "\n",
    "best_model_random_forest = None\n",
    "best_result = 0\n",
    "n_est = 0\n",
    "m_depth = 0\n",
    "for i in range(1,502,50):\n",
    "    for j in range (1,16):\n",
    "        model = RandomForestClassifier(random_state=12345, n_estimators=i, max_depth=j)\n",
    "        model.fit(features_upsampled, target_upsampled)\n",
    "        prediction = model.predict(features_valid)\n",
    "        res = model.score(features_valid, target_valid)\n",
    "        if res > best_result:\n",
    "            best_model_random_forest = model\n",
    "            best_result = res\n",
    "            n_est = i\n",
    "            m_depth = j      "
   ]
  },
  {
   "cell_type": "code",
   "execution_count": 63,
   "metadata": {},
   "outputs": [
    {
     "name": "stdout",
     "output_type": "stream",
     "text": [
      "0.849\n",
      "351\n",
      "15\n"
     ]
    }
   ],
   "source": [
    "print(best_result)\n",
    "print(n_est)\n",
    "print(m_depth)"
   ]
  },
  {
   "cell_type": "code",
   "execution_count": 64,
   "metadata": {
    "scrolled": true
   },
   "outputs": [
    {
     "name": "stdout",
     "output_type": "stream",
     "text": [
      "accuracy_score: 0.849 \n",
      " f1_score: 0.6177215189873418 \n",
      " roc_auc_score: 0.8443978006157793\n"
     ]
    }
   ],
   "source": [
    "scores(features_valid, target_valid, best_model_random_forest)"
   ]
  },
  {
   "cell_type": "markdown",
   "metadata": {},
   "source": [
    "Оказывается, что наилучшие результаты показывает модель RandomForestClassifier на масштабированных признаках после upscaling."
   ]
  },
  {
   "cell_type": "markdown",
   "metadata": {},
   "source": [
    "Проведём подборку параметров используя GriddSearchCV  и F1 метрику"
   ]
  },
  {
   "cell_type": "code",
   "execution_count": null,
   "metadata": {},
   "outputs": [],
   "source": [
    "param = {\n",
    "    'n_estimators':list(range(1,101,20)),\n",
    "    'max_depth':list(range(1,11,1))\n",
    "}"
   ]
  },
  {
   "cell_type": "code",
   "execution_count": null,
   "metadata": {},
   "outputs": [],
   "source": [
    "clf = GridSearchCV(\n",
    "    estimator = rfc_m,\n",
    "    param_grid = param,\n",
    "    scoring = 'f1'\n",
    ")"
   ]
  },
  {
   "cell_type": "code",
   "execution_count": null,
   "metadata": {},
   "outputs": [],
   "source": [
    "%%time\n",
    "clf.fit(eatures_upsampled, target_upsampled)"
   ]
  },
  {
   "cell_type": "code",
   "execution_count": null,
   "metadata": {},
   "outputs": [],
   "source": [
    "clf.best_params_"
   ]
  },
  {
   "cell_type": "markdown",
   "metadata": {},
   "source": [
    "Протестируем модель LinearRegression"
   ]
  },
  {
   "cell_type": "code",
   "execution_count": 65,
   "metadata": {},
   "outputs": [
    {
     "data": {
      "text/plain": [
       "LinearRegression(copy_X=True, fit_intercept=True, n_jobs=None, normalize=False)"
      ]
     },
     "execution_count": 65,
     "metadata": {},
     "output_type": "execute_result"
    }
   ],
   "source": [
    "model = LinearRegression()\n",
    "model.fit(features_train, target_train)"
   ]
  },
  {
   "cell_type": "code",
   "execution_count": 66,
   "metadata": {},
   "outputs": [
    {
     "name": "stdout",
     "output_type": "stream",
     "text": [
      "0.1636956750934241\n",
      "0.14166273025772402\n"
     ]
    }
   ],
   "source": [
    "print(model.score(features_train, target_train))\n",
    "print(model.score(features_valid, target_valid))"
   ]
  },
  {
   "cell_type": "markdown",
   "metadata": {},
   "source": [
    "Результат неудовлетворительный"
   ]
  },
  {
   "cell_type": "markdown",
   "metadata": {},
   "source": [
    "Протестируем LogisticRegression"
   ]
  },
  {
   "cell_type": "code",
   "execution_count": 67,
   "metadata": {},
   "outputs": [
    {
     "data": {
      "text/plain": [
       "LogisticRegression(C=1.0, class_weight=None, dual=False, fit_intercept=True,\n",
       "                   intercept_scaling=1, l1_ratio=None, max_iter=100,\n",
       "                   multi_class='warn', n_jobs=None, penalty='l2',\n",
       "                   random_state=12345, solver='liblinear', tol=0.0001,\n",
       "                   verbose=0, warm_start=False)"
      ]
     },
     "execution_count": 67,
     "metadata": {},
     "output_type": "execute_result"
    }
   ],
   "source": [
    "model = LogisticRegression(solver = 'liblinear', random_state=12345)\n",
    "model.fit(features_train, target_train)"
   ]
  },
  {
   "cell_type": "code",
   "execution_count": 68,
   "metadata": {},
   "outputs": [
    {
     "name": "stdout",
     "output_type": "stream",
     "text": [
      "0.8183333333333334\n",
      "0.8025\n"
     ]
    }
   ],
   "source": [
    "print(model.score(features_train, target_train))\n",
    "print(model.score(features_valid, target_valid))"
   ]
  },
  {
   "cell_type": "code",
   "execution_count": 69,
   "metadata": {
    "scrolled": true
   },
   "outputs": [
    {
     "name": "stdout",
     "output_type": "stream",
     "text": [
      "accuracy_score: 0.8025 \n",
      " f1_score: 0.33389544688026984 \n",
      " roc_auc_score: 0.7584851106043468\n"
     ]
    }
   ],
   "source": [
    "scores(features_valid, target_valid, model)"
   ]
  },
  {
   "cell_type": "markdown",
   "metadata": {},
   "source": [
    "Аккуратность модели LogisticRegression на валидационной выборке высокая, но f1_score низкая"
   ]
  },
  {
   "cell_type": "markdown",
   "metadata": {},
   "source": [
    "Лучшие аккуратность и f1_score выявились на моделе RandomForestClassifier"
   ]
  },
  {
   "cell_type": "markdown",
   "metadata": {},
   "source": [
    "## Тестирование модели"
   ]
  },
  {
   "cell_type": "code",
   "execution_count": 70,
   "metadata": {},
   "outputs": [
    {
     "data": {
      "text/html": [
       "<div>\n",
       "<style scoped>\n",
       "    .dataframe tbody tr th:only-of-type {\n",
       "        vertical-align: middle;\n",
       "    }\n",
       "\n",
       "    .dataframe tbody tr th {\n",
       "        vertical-align: top;\n",
       "    }\n",
       "\n",
       "    .dataframe thead th {\n",
       "        text-align: right;\n",
       "    }\n",
       "</style>\n",
       "<table border=\"1\" class=\"dataframe\">\n",
       "  <thead>\n",
       "    <tr style=\"text-align: right;\">\n",
       "      <th></th>\n",
       "      <th>CreditScore</th>\n",
       "      <th>Age</th>\n",
       "      <th>Tenure</th>\n",
       "      <th>Balance</th>\n",
       "      <th>NumOfProducts</th>\n",
       "      <th>HasCrCard</th>\n",
       "      <th>IsActiveMember</th>\n",
       "      <th>EstimatedSalary</th>\n",
       "      <th>Geography_Germany</th>\n",
       "      <th>Geography_Spain</th>\n",
       "      <th>Gender_Male</th>\n",
       "    </tr>\n",
       "  </thead>\n",
       "  <tbody>\n",
       "    <tr>\n",
       "      <td>7041</td>\n",
       "      <td>-2.226392</td>\n",
       "      <td>-0.088482</td>\n",
       "      <td>-1.036114</td>\n",
       "      <td>-1.233163</td>\n",
       "      <td>2</td>\n",
       "      <td>1</td>\n",
       "      <td>0</td>\n",
       "      <td>0.647083</td>\n",
       "      <td>0</td>\n",
       "      <td>0</td>\n",
       "      <td>1</td>\n",
       "    </tr>\n",
       "    <tr>\n",
       "      <td>5709</td>\n",
       "      <td>-0.087120</td>\n",
       "      <td>0.006422</td>\n",
       "      <td>1.388355</td>\n",
       "      <td>-1.233163</td>\n",
       "      <td>1</td>\n",
       "      <td>1</td>\n",
       "      <td>0</td>\n",
       "      <td>-1.658410</td>\n",
       "      <td>0</td>\n",
       "      <td>0</td>\n",
       "      <td>0</td>\n",
       "    </tr>\n",
       "    <tr>\n",
       "      <td>7117</td>\n",
       "      <td>-0.917905</td>\n",
       "      <td>-0.752805</td>\n",
       "      <td>0.002944</td>\n",
       "      <td>0.722307</td>\n",
       "      <td>1</td>\n",
       "      <td>1</td>\n",
       "      <td>1</td>\n",
       "      <td>-1.369334</td>\n",
       "      <td>0</td>\n",
       "      <td>1</td>\n",
       "      <td>1</td>\n",
       "    </tr>\n",
       "    <tr>\n",
       "      <td>7775</td>\n",
       "      <td>-0.253277</td>\n",
       "      <td>0.101325</td>\n",
       "      <td>1.734708</td>\n",
       "      <td>-1.233163</td>\n",
       "      <td>2</td>\n",
       "      <td>1</td>\n",
       "      <td>0</td>\n",
       "      <td>0.075086</td>\n",
       "      <td>0</td>\n",
       "      <td>1</td>\n",
       "      <td>1</td>\n",
       "    </tr>\n",
       "    <tr>\n",
       "      <td>8735</td>\n",
       "      <td>0.785204</td>\n",
       "      <td>-0.847708</td>\n",
       "      <td>1.734708</td>\n",
       "      <td>0.615625</td>\n",
       "      <td>1</td>\n",
       "      <td>0</td>\n",
       "      <td>1</td>\n",
       "      <td>-1.070919</td>\n",
       "      <td>0</td>\n",
       "      <td>0</td>\n",
       "      <td>1</td>\n",
       "    </tr>\n",
       "  </tbody>\n",
       "</table>\n",
       "</div>"
      ],
      "text/plain": [
       "      CreditScore       Age    Tenure   Balance  NumOfProducts  HasCrCard  \\\n",
       "7041    -2.226392 -0.088482 -1.036114 -1.233163              2          1   \n",
       "5709    -0.087120  0.006422  1.388355 -1.233163              1          1   \n",
       "7117    -0.917905 -0.752805  0.002944  0.722307              1          1   \n",
       "7775    -0.253277  0.101325  1.734708 -1.233163              2          1   \n",
       "8735     0.785204 -0.847708  1.734708  0.615625              1          0   \n",
       "\n",
       "      IsActiveMember  EstimatedSalary  Geography_Germany  Geography_Spain  \\\n",
       "7041               0         0.647083                  0                0   \n",
       "5709               0        -1.658410                  0                0   \n",
       "7117               1        -1.369334                  0                1   \n",
       "7775               0         0.075086                  0                1   \n",
       "8735               1        -1.070919                  0                0   \n",
       "\n",
       "      Gender_Male  \n",
       "7041            1  \n",
       "5709            0  \n",
       "7117            1  \n",
       "7775            1  \n",
       "8735            1  "
      ]
     },
     "metadata": {},
     "output_type": "display_data"
    }
   ],
   "source": [
    "display(features_test.head())"
   ]
  },
  {
   "cell_type": "code",
   "execution_count": 71,
   "metadata": {},
   "outputs": [
    {
     "name": "stdout",
     "output_type": "stream",
     "text": [
      "Значение f1_score на тестовой выборке: 0.6057571964956195\n"
     ]
    }
   ],
   "source": [
    "predictions_test = best_model_random_forest.predict(features_test)\n",
    "print('Значение f1_score на тестовой выборке:', f1_score(target_test, predictions_test))"
   ]
  },
  {
   "cell_type": "code",
   "execution_count": 72,
   "metadata": {},
   "outputs": [
    {
     "name": "stdout",
     "output_type": "stream",
     "text": [
      "Значение roc_auc_score на тестовой выборке: 0.8527278205768201\n"
     ]
    }
   ],
   "source": [
    "probability_test = best_model_random_forest.predict_proba(features_test)\n",
    "print('Значение roc_auc_score на тестовой выборке:', roc_auc_score(target_test, probability_test[:,1]))"
   ]
  },
  {
   "cell_type": "code",
   "execution_count": 73,
   "metadata": {},
   "outputs": [
    {
     "data": {
      "text/plain": [
       "<matplotlib.axes._subplots.AxesSubplot at 0x7faae1e46750>"
      ]
     },
     "execution_count": 73,
     "metadata": {},
     "output_type": "execute_result"
    },
    {
     "data": {
      "image/png": "[encoded data removed]",
      "text/plain": [
       "<Figure size 432x288 with 1 Axes>"
      ]
     },
     "metadata": {
      "needs_background": "light"
     },
     "output_type": "display_data"
    }
   ],
   "source": [
    "imp = pd.Series(best_model_random_forest.feature_importances_, features_train.columns)\n",
    "plt.title('Важность признаков')\n",
    "plt.ylabel('Важность')\n",
    "imp.plot.bar()"
   ]
  },
  {
   "cell_type": "markdown",
   "metadata": {},
   "source": [
    "<div class=\"alert alert-block alert-success\">\n",
    "<b>Успех:</b> С тестирование все порядке, достигнуты хорошие значения целевых метрик\n"
   ]
  },
  {
   "cell_type": "markdown",
   "metadata": {},
   "source": [
    "## Вывод"
   ]
  },
  {
   "cell_type": "markdown",
   "metadata": {},
   "source": [
    "Наилучшие результаты (аккуратность, f1_score и roc_auc_score) показывает модель RandomForestClassifier на масштабированных признаках после upscaling."
   ]
  }
 ],
 "metadata": {
  "ExecuteTimeLog": [
   {
    "duration": 572,
    "start_time": "2022-03-04T11:51:19.488Z"
   },
   {
    "duration": 10,
    "start_time": "2022-03-04T11:51:42.549Z"
   },
   {
    "duration": 10,
    "start_time": "2022-03-04T11:51:52.901Z"
   },
   {
    "duration": 19,
    "start_time": "2022-03-04T11:52:44.578Z"
   },
   {
    "duration": 8,
    "start_time": "2022-03-04T11:53:39.481Z"
   },
   {
    "duration": 236,
    "start_time": "2022-03-04T13:01:12.368Z"
   },
   {
    "duration": 16,
    "start_time": "2022-03-04T13:01:37.979Z"
   },
   {
    "duration": 12,
    "start_time": "2022-03-04T15:20:17.232Z"
   },
   {
    "duration": 14,
    "start_time": "2022-03-04T15:20:45.326Z"
   },
   {
    "duration": 245,
    "start_time": "2022-03-04T15:37:05.323Z"
   },
   {
    "duration": 5,
    "start_time": "2022-03-04T15:37:23.542Z"
   },
   {
    "duration": 9,
    "start_time": "2022-03-04T15:37:31.697Z"
   },
   {
    "duration": 591,
    "start_time": "2022-03-06T09:31:10.992Z"
   },
   {
    "duration": 9,
    "start_time": "2022-03-06T09:31:14.645Z"
   },
   {
    "duration": 10,
    "start_time": "2022-03-06T09:31:20.566Z"
   },
   {
    "duration": 212,
    "start_time": "2022-03-06T09:39:05.132Z"
   },
   {
    "duration": 18,
    "start_time": "2022-03-06T09:39:38.260Z"
   },
   {
    "duration": 16,
    "start_time": "2022-03-06T09:42:16.732Z"
   },
   {
    "duration": 250,
    "start_time": "2022-03-06T09:42:20.108Z"
   },
   {
    "duration": 299,
    "start_time": "2022-03-06T09:42:41.390Z"
   },
   {
    "duration": 8,
    "start_time": "2022-03-06T09:42:49.216Z"
   },
   {
    "duration": 5004,
    "start_time": "2022-03-06T10:07:05.932Z"
   },
   {
    "duration": -464,
    "start_time": "2022-03-06T10:07:11.402Z"
   },
   {
    "duration": 4627,
    "start_time": "2022-03-06T10:08:07.149Z"
   },
   {
    "duration": 4603,
    "start_time": "2022-03-06T10:09:44.345Z"
   },
   {
    "duration": 4569,
    "start_time": "2022-03-06T10:10:22.048Z"
   },
   {
    "duration": 4696,
    "start_time": "2022-03-06T10:10:46.946Z"
   },
   {
    "duration": 4777,
    "start_time": "2022-03-06T10:12:11.641Z"
   },
   {
    "duration": 4679,
    "start_time": "2022-03-06T10:12:26.633Z"
   },
   {
    "duration": 13,
    "start_time": "2022-03-06T10:12:46.484Z"
   },
   {
    "duration": 4637,
    "start_time": "2022-03-06T10:12:53.324Z"
   },
   {
    "duration": 200,
    "start_time": "2022-03-06T10:13:12.293Z"
   },
   {
    "duration": 21,
    "start_time": "2022-03-06T10:13:41.716Z"
   },
   {
    "duration": 606,
    "start_time": "2022-03-06T10:13:59.173Z"
   },
   {
    "duration": 10,
    "start_time": "2022-03-06T10:14:02.828Z"
   },
   {
    "duration": 12,
    "start_time": "2022-03-06T10:14:06.840Z"
   },
   {
    "duration": 14,
    "start_time": "2022-03-06T10:14:11.522Z"
   },
   {
    "duration": 16,
    "start_time": "2022-03-06T10:14:18.043Z"
   },
   {
    "duration": 4849,
    "start_time": "2022-03-06T10:14:33.501Z"
   },
   {
    "duration": 2,
    "start_time": "2022-03-06T10:14:56.435Z"
   },
   {
    "duration": 5,
    "start_time": "2022-03-06T10:15:23.043Z"
   },
   {
    "duration": 4,
    "start_time": "2022-03-06T10:15:43.563Z"
   },
   {
    "duration": 14,
    "start_time": "2022-03-06T10:15:51.606Z"
   },
   {
    "duration": 8,
    "start_time": "2022-03-06T10:15:55.878Z"
   },
   {
    "duration": 3,
    "start_time": "2022-03-06T10:24:00.472Z"
   },
   {
    "duration": 436,
    "start_time": "2022-03-06T11:30:43.823Z"
   },
   {
    "duration": 12,
    "start_time": "2022-03-06T11:44:28.892Z"
   },
   {
    "duration": 5,
    "start_time": "2022-03-06T11:46:46.837Z"
   },
   {
    "duration": 237,
    "start_time": "2022-03-06T11:46:50.440Z"
   },
   {
    "duration": 199,
    "start_time": "2022-03-06T11:47:19.428Z"
   },
   {
    "duration": 8,
    "start_time": "2022-03-06T11:48:07.387Z"
   },
   {
    "duration": 29,
    "start_time": "2022-03-06T12:40:47.469Z"
   },
   {
    "duration": 227,
    "start_time": "2022-03-06T12:42:46.181Z"
   },
   {
    "duration": 17,
    "start_time": "2022-03-06T12:43:52.202Z"
   },
   {
    "duration": 54,
    "start_time": "2022-03-06T12:45:39.570Z"
   },
   {
    "duration": 16,
    "start_time": "2022-03-06T12:45:50.336Z"
   },
   {
    "duration": 9,
    "start_time": "2022-03-06T12:47:10.482Z"
   },
   {
    "duration": 6,
    "start_time": "2022-03-06T12:48:09.000Z"
   },
   {
    "duration": 8,
    "start_time": "2022-03-06T12:48:49.608Z"
   },
   {
    "duration": 7,
    "start_time": "2022-03-06T13:28:55.654Z"
   },
   {
    "duration": 4,
    "start_time": "2022-03-06T13:31:21.562Z"
   },
   {
    "duration": 13,
    "start_time": "2022-03-06T13:31:32.784Z"
   },
   {
    "duration": 12,
    "start_time": "2022-03-06T13:31:43.544Z"
   },
   {
    "duration": 7,
    "start_time": "2022-03-06T13:31:48.906Z"
   },
   {
    "duration": 4,
    "start_time": "2022-03-06T13:32:00.160Z"
   },
   {
    "duration": 7,
    "start_time": "2022-03-06T13:32:06.442Z"
   },
   {
    "duration": 250,
    "start_time": "2022-03-06T13:32:13.754Z"
   },
   {
    "duration": 2,
    "start_time": "2022-03-06T13:33:16.635Z"
   },
   {
    "duration": 266,
    "start_time": "2022-03-06T13:33:28.106Z"
   },
   {
    "duration": 39,
    "start_time": "2022-03-06T13:33:54.949Z"
   },
   {
    "duration": 194,
    "start_time": "2022-03-06T13:38:21.064Z"
   },
   {
    "duration": 198,
    "start_time": "2022-03-06T13:38:36.203Z"
   },
   {
    "duration": 3,
    "start_time": "2022-03-06T13:38:52.107Z"
   },
   {
    "duration": 5,
    "start_time": "2022-03-06T13:40:22.726Z"
   },
   {
    "duration": 2,
    "start_time": "2022-03-06T14:53:21.672Z"
   },
   {
    "duration": 6,
    "start_time": "2022-03-06T14:53:51.840Z"
   },
   {
    "duration": 6,
    "start_time": "2022-03-06T14:57:34.153Z"
   },
   {
    "duration": 5,
    "start_time": "2022-03-06T14:59:06.640Z"
   },
   {
    "duration": 191,
    "start_time": "2022-03-06T14:59:31.947Z"
   },
   {
    "duration": 196,
    "start_time": "2022-03-06T15:00:31.712Z"
   },
   {
    "duration": 5,
    "start_time": "2022-03-06T15:01:27.748Z"
   },
   {
    "duration": 2,
    "start_time": "2022-03-06T15:30:42.028Z"
   },
   {
    "duration": 44,
    "start_time": "2022-03-06T15:31:59.310Z"
   },
   {
    "duration": 9,
    "start_time": "2022-03-06T15:32:17.488Z"
   },
   {
    "duration": 5,
    "start_time": "2022-03-06T15:32:28.575Z"
   },
   {
    "duration": 675,
    "start_time": "2022-03-07T09:17:47.901Z"
   },
   {
    "duration": 907,
    "start_time": "2022-03-07T09:17:50.418Z"
   },
   {
    "duration": 14,
    "start_time": "2022-03-07T09:18:23.202Z"
   },
   {
    "duration": 4,
    "start_time": "2022-03-07T09:18:29.258Z"
   },
   {
    "duration": 13,
    "start_time": "2022-03-07T09:18:30.512Z"
   },
   {
    "duration": 15,
    "start_time": "2022-03-07T09:18:38.552Z"
   },
   {
    "duration": 10,
    "start_time": "2022-03-07T09:18:42.395Z"
   },
   {
    "duration": 6,
    "start_time": "2022-03-07T09:18:47.769Z"
   },
   {
    "duration": 20,
    "start_time": "2022-03-07T09:18:49.244Z"
   },
   {
    "duration": 24,
    "start_time": "2022-03-07T09:18:55.423Z"
   },
   {
    "duration": 5,
    "start_time": "2022-03-07T09:19:01.586Z"
   },
   {
    "duration": 5,
    "start_time": "2022-03-07T09:19:10.604Z"
   },
   {
    "duration": 20,
    "start_time": "2022-03-07T09:19:13.425Z"
   },
   {
    "duration": 12,
    "start_time": "2022-03-07T09:19:17.400Z"
   },
   {
    "duration": 4,
    "start_time": "2022-03-07T09:19:22.072Z"
   },
   {
    "duration": 6,
    "start_time": "2022-03-07T09:19:25.125Z"
   },
   {
    "duration": 11,
    "start_time": "2022-03-07T09:19:28.131Z"
   },
   {
    "duration": 58,
    "start_time": "2022-03-07T09:19:35.674Z"
   },
   {
    "duration": 8,
    "start_time": "2022-03-07T09:19:40.152Z"
   },
   {
    "duration": 8,
    "start_time": "2022-03-07T09:19:44.106Z"
   },
   {
    "duration": 7,
    "start_time": "2022-03-07T09:19:49.163Z"
   },
   {
    "duration": 164,
    "start_time": "2022-03-07T09:20:07.900Z"
   },
   {
    "duration": 701,
    "start_time": "2022-03-07T09:20:45.504Z"
   },
   {
    "duration": 807,
    "start_time": "2022-03-07T09:21:37.148Z"
   },
   {
    "duration": 4,
    "start_time": "2022-03-07T09:22:43.048Z"
   },
   {
    "duration": 4,
    "start_time": "2022-03-07T09:22:56.774Z"
   },
   {
    "duration": 70,
    "start_time": "2022-03-07T09:23:14.059Z"
   },
   {
    "duration": 73,
    "start_time": "2022-03-07T09:23:26.059Z"
   },
   {
    "duration": 71,
    "start_time": "2022-03-07T09:23:47.101Z"
   },
   {
    "duration": 5,
    "start_time": "2022-03-07T09:24:16.603Z"
   },
   {
    "duration": 6,
    "start_time": "2022-03-07T09:26:34.300Z"
   },
   {
    "duration": 9,
    "start_time": "2022-03-07T09:27:20.497Z"
   },
   {
    "duration": 6,
    "start_time": "2022-03-07T09:28:46.803Z"
   },
   {
    "duration": 750,
    "start_time": "2022-03-07T09:31:32.551Z"
   },
   {
    "duration": 624,
    "start_time": "2022-03-07T09:31:33.866Z"
   },
   {
    "duration": 4,
    "start_time": "2022-03-07T09:31:34.644Z"
   },
   {
    "duration": 13,
    "start_time": "2022-03-07T09:31:35.643Z"
   },
   {
    "duration": 15,
    "start_time": "2022-03-07T09:31:37.538Z"
   },
   {
    "duration": 10,
    "start_time": "2022-03-07T09:31:39.242Z"
   },
   {
    "duration": 6,
    "start_time": "2022-03-07T09:31:43.931Z"
   },
   {
    "duration": 25,
    "start_time": "2022-03-07T09:31:46.060Z"
   },
   {
    "duration": 20,
    "start_time": "2022-03-07T09:31:47.846Z"
   },
   {
    "duration": 6,
    "start_time": "2022-03-07T09:31:51.069Z"
   },
   {
    "duration": 6,
    "start_time": "2022-03-07T09:31:53.072Z"
   },
   {
    "duration": 20,
    "start_time": "2022-03-07T09:31:55.136Z"
   },
   {
    "duration": 11,
    "start_time": "2022-03-07T09:31:57.861Z"
   },
   {
    "duration": 4,
    "start_time": "2022-03-07T09:31:59.955Z"
   },
   {
    "duration": 7,
    "start_time": "2022-03-07T09:32:26.636Z"
   },
   {
    "duration": 9,
    "start_time": "2022-03-07T09:32:51.912Z"
   },
   {
    "duration": 8,
    "start_time": "2022-03-07T09:32:52.997Z"
   },
   {
    "duration": 371,
    "start_time": "2022-03-07T09:32:56.359Z"
   },
   {
    "duration": 6,
    "start_time": "2022-03-07T09:33:14.255Z"
   },
   {
    "duration": 26,
    "start_time": "2022-03-07T09:33:20.921Z"
   },
   {
    "duration": 183,
    "start_time": "2022-03-07T09:36:15.155Z"
   },
   {
    "duration": 676,
    "start_time": "2022-03-07T09:36:24.128Z"
   },
   {
    "duration": 4,
    "start_time": "2022-03-07T09:36:45.279Z"
   },
   {
    "duration": 7,
    "start_time": "2022-03-07T09:41:09.681Z"
   },
   {
    "duration": 10,
    "start_time": "2022-03-07T09:42:06.818Z"
   },
   {
    "duration": 85,
    "start_time": "2022-03-07T09:44:07.829Z"
   },
   {
    "duration": 10,
    "start_time": "2022-03-07T09:44:20.573Z"
   },
   {
    "duration": 7,
    "start_time": "2022-03-07T09:44:30.707Z"
   },
   {
    "duration": 7,
    "start_time": "2022-03-07T09:44:37.021Z"
   },
   {
    "duration": 248,
    "start_time": "2022-03-07T09:44:59.235Z"
   },
   {
    "duration": 7,
    "start_time": "2022-03-07T09:45:14.496Z"
   },
   {
    "duration": 162,
    "start_time": "2022-03-07T10:29:27.304Z"
   },
   {
    "duration": 4,
    "start_time": "2022-03-07T10:30:30.923Z"
   },
   {
    "duration": 1010722,
    "start_time": "2022-03-07T10:30:41.556Z"
   },
   {
    "duration": 5,
    "start_time": "2022-03-07T10:58:48.782Z"
   },
   {
    "duration": 216,
    "start_time": "2022-03-07T11:00:37.970Z"
   },
   {
    "duration": 4,
    "start_time": "2022-03-07T11:01:55.537Z"
   },
   {
    "duration": 3215,
    "start_time": "2022-03-07T11:36:27.177Z"
   },
   {
    "duration": 168,
    "start_time": "2022-03-07T11:37:25.106Z"
   },
   {
    "duration": 610,
    "start_time": "2022-03-08T09:01:55.150Z"
   },
   {
    "duration": 457,
    "start_time": "2022-03-08T09:01:57.846Z"
   },
   {
    "duration": 3,
    "start_time": "2022-03-08T09:02:01.797Z"
   },
   {
    "duration": 11,
    "start_time": "2022-03-08T09:02:03.651Z"
   },
   {
    "duration": 10,
    "start_time": "2022-03-08T09:02:06.150Z"
   },
   {
    "duration": 7,
    "start_time": "2022-03-08T09:02:07.898Z"
   },
   {
    "duration": 4,
    "start_time": "2022-03-08T09:02:12.728Z"
   },
   {
    "duration": 14,
    "start_time": "2022-03-08T09:02:13.473Z"
   },
   {
    "duration": 15,
    "start_time": "2022-03-08T09:02:14.980Z"
   },
   {
    "duration": 4,
    "start_time": "2022-03-08T09:02:23.001Z"
   },
   {
    "duration": 4,
    "start_time": "2022-03-08T09:02:27.550Z"
   },
   {
    "duration": 13,
    "start_time": "2022-03-08T09:02:28.870Z"
   },
   {
    "duration": 8,
    "start_time": "2022-03-08T09:02:30.750Z"
   },
   {
    "duration": 3,
    "start_time": "2022-03-08T09:02:36.458Z"
   },
   {
    "duration": 4,
    "start_time": "2022-03-08T09:02:38.783Z"
   },
   {
    "duration": 7,
    "start_time": "2022-03-08T09:02:44.312Z"
   },
   {
    "duration": 7,
    "start_time": "2022-03-08T09:02:44.929Z"
   },
   {
    "duration": 4,
    "start_time": "2022-03-08T09:02:48.249Z"
   },
   {
    "duration": 19,
    "start_time": "2022-03-08T09:02:55.836Z"
   },
   {
    "duration": 403,
    "start_time": "2022-03-08T09:03:16.377Z"
   },
   {
    "duration": 4,
    "start_time": "2022-03-08T09:03:24.189Z"
   },
   {
    "duration": 5,
    "start_time": "2022-03-08T09:03:43.097Z"
   },
   {
    "duration": 6,
    "start_time": "2022-03-08T09:03:56.200Z"
   },
   {
    "duration": 10,
    "start_time": "2022-03-08T09:05:39.667Z"
   },
   {
    "duration": 306,
    "start_time": "2022-03-08T09:07:40.012Z"
   },
   {
    "duration": 7,
    "start_time": "2022-03-08T09:07:59.592Z"
   },
   {
    "duration": 20,
    "start_time": "2022-03-08T09:10:10.521Z"
   },
   {
    "duration": 6,
    "start_time": "2022-03-08T09:10:14.624Z"
   },
   {
    "duration": 5,
    "start_time": "2022-03-08T09:12:13.000Z"
   },
   {
    "duration": 6,
    "start_time": "2022-03-08T09:12:22.016Z"
   },
   {
    "duration": 5,
    "start_time": "2022-03-08T09:12:30.305Z"
   },
   {
    "duration": 372,
    "start_time": "2022-03-08T09:20:37.271Z"
   },
   {
    "duration": 390,
    "start_time": "2022-03-08T09:51:24.512Z"
   },
   {
    "duration": 3,
    "start_time": "2022-03-08T09:51:54.639Z"
   },
   {
    "duration": 373,
    "start_time": "2022-03-08T10:46:09.113Z"
   },
   {
    "duration": 3,
    "start_time": "2022-03-08T10:47:07.133Z"
   },
   {
    "duration": 14,
    "start_time": "2022-03-08T10:47:17.836Z"
   },
   {
    "duration": 214,
    "start_time": "2022-03-08T10:48:07.506Z"
   },
   {
    "duration": 5,
    "start_time": "2022-03-08T10:48:18.604Z"
   },
   {
    "duration": 14,
    "start_time": "2022-03-08T10:48:44.456Z"
   },
   {
    "duration": 5,
    "start_time": "2022-03-08T10:48:47.061Z"
   },
   {
    "duration": 14,
    "start_time": "2022-03-08T10:48:56.056Z"
   },
   {
    "duration": 6,
    "start_time": "2022-03-08T10:48:58.450Z"
   },
   {
    "duration": 13,
    "start_time": "2022-03-08T10:49:05.910Z"
   },
   {
    "duration": 6,
    "start_time": "2022-03-08T10:49:09.226Z"
   },
   {
    "duration": 192,
    "start_time": "2022-03-08T10:51:05.980Z"
   },
   {
    "duration": 4,
    "start_time": "2022-03-08T10:51:44.215Z"
   },
   {
    "duration": 259,
    "start_time": "2022-03-08T11:39:59.880Z"
   },
   {
    "duration": 225,
    "start_time": "2022-03-08T11:40:28.121Z"
   },
   {
    "duration": 26,
    "start_time": "2022-03-08T11:40:46.330Z"
   },
   {
    "duration": 195,
    "start_time": "2022-03-08T11:44:46.528Z"
   },
   {
    "duration": 3,
    "start_time": "2022-03-08T11:45:19.291Z"
   },
   {
    "duration": 175,
    "start_time": "2022-03-08T11:45:49.245Z"
   },
   {
    "duration": 3,
    "start_time": "2022-03-08T11:45:53.597Z"
   },
   {
    "duration": 179,
    "start_time": "2022-03-08T11:46:00.342Z"
   },
   {
    "duration": 3,
    "start_time": "2022-03-08T11:46:03.533Z"
   },
   {
    "duration": 189,
    "start_time": "2022-03-08T11:46:15.508Z"
   },
   {
    "duration": 3,
    "start_time": "2022-03-08T11:46:19.695Z"
   },
   {
    "duration": 580,
    "start_time": "2022-03-08T11:47:10.075Z"
   },
   {
    "duration": 4,
    "start_time": "2022-03-08T11:47:14.414Z"
   },
   {
    "duration": 449,
    "start_time": "2022-03-08T11:47:32.248Z"
   },
   {
    "duration": 4,
    "start_time": "2022-03-08T11:47:35.887Z"
   },
   {
    "duration": 22,
    "start_time": "2022-03-08T11:50:07.920Z"
   },
   {
    "duration": 29,
    "start_time": "2022-03-08T11:50:13.062Z"
   },
   {
    "duration": 415,
    "start_time": "2022-03-08T11:50:24.152Z"
   },
   {
    "duration": 4,
    "start_time": "2022-03-08T11:50:35.790Z"
   },
   {
    "duration": 193877,
    "start_time": "2022-03-08T11:54:09.992Z"
   },
   {
    "duration": 4,
    "start_time": "2022-03-08T12:03:54.963Z"
   },
   {
    "duration": 203507,
    "start_time": "2022-03-08T12:04:21.391Z"
   },
   {
    "duration": 3,
    "start_time": "2022-03-08T12:07:56.775Z"
   },
   {
    "duration": 39990,
    "start_time": "2022-03-08T12:09:25.254Z"
   },
   {
    "duration": 5,
    "start_time": "2022-03-08T12:12:29.789Z"
   },
   {
    "duration": 10,
    "start_time": "2022-03-08T12:16:09.223Z"
   },
   {
    "duration": 416876,
    "start_time": "2022-03-08T12:16:54.003Z"
   },
   {
    "duration": 3,
    "start_time": "2022-03-08T12:23:56.723Z"
   },
   {
    "duration": 9,
    "start_time": "2022-03-08T12:24:17.765Z"
   },
   {
    "duration": 282,
    "start_time": "2022-03-08T12:27:03.207Z"
   },
   {
    "duration": 287,
    "start_time": "2022-03-08T12:28:53.854Z"
   },
   {
    "duration": 62,
    "start_time": "2022-03-08T12:29:11.138Z"
   },
   {
    "duration": 287,
    "start_time": "2022-03-08T14:10:44.998Z"
   },
   {
    "duration": 277,
    "start_time": "2022-03-08T14:24:09.304Z"
   },
   {
    "duration": 61,
    "start_time": "2022-03-08T14:24:19.687Z"
   },
   {
    "duration": 65,
    "start_time": "2022-03-08T14:26:49.630Z"
   },
   {
    "duration": 4,
    "start_time": "2022-03-08T17:08:42.708Z"
   },
   {
    "duration": 3,
    "start_time": "2022-03-08T17:09:05.082Z"
   },
   {
    "duration": 250,
    "start_time": "2022-03-08T17:19:04.806Z"
   },
   {
    "duration": 4,
    "start_time": "2022-03-08T17:19:35.234Z"
   },
   {
    "duration": 3,
    "start_time": "2022-03-08T17:19:38.970Z"
   },
   {
    "duration": 9,
    "start_time": "2022-03-08T17:25:10.859Z"
   },
   {
    "duration": 226,
    "start_time": "2022-03-08T17:25:58.398Z"
   },
   {
    "duration": 9,
    "start_time": "2022-03-08T17:26:21.009Z"
   },
   {
    "duration": 226,
    "start_time": "2022-03-08T17:26:24.317Z"
   },
   {
    "duration": 4,
    "start_time": "2022-03-08T17:26:59.546Z"
   },
   {
    "duration": 226,
    "start_time": "2022-03-08T17:28:08.732Z"
   },
   {
    "duration": 7,
    "start_time": "2022-03-08T17:28:19.228Z"
   },
   {
    "duration": 9,
    "start_time": "2022-03-08T17:29:08.006Z"
   },
   {
    "duration": 9,
    "start_time": "2022-03-08T17:29:10.721Z"
   },
   {
    "duration": 12,
    "start_time": "2022-03-08T17:29:53.604Z"
   },
   {
    "duration": 558,
    "start_time": "2022-03-08T17:32:05.414Z"
   },
   {
    "duration": 449,
    "start_time": "2022-03-08T17:32:06.057Z"
   },
   {
    "duration": 3,
    "start_time": "2022-03-08T17:32:07.535Z"
   },
   {
    "duration": 11,
    "start_time": "2022-03-08T17:32:11.324Z"
   },
   {
    "duration": 12,
    "start_time": "2022-03-08T17:32:15.626Z"
   },
   {
    "duration": 758,
    "start_time": "2022-03-08T17:48:00.580Z"
   },
   {
    "duration": 480,
    "start_time": "2022-03-08T17:48:01.340Z"
   },
   {
    "duration": 2,
    "start_time": "2022-03-08T17:48:01.823Z"
   },
   {
    "duration": 18,
    "start_time": "2022-03-08T17:48:01.827Z"
   },
   {
    "duration": 10,
    "start_time": "2022-03-08T17:48:01.847Z"
   },
   {
    "duration": 9,
    "start_time": "2022-03-08T17:48:01.863Z"
   },
   {
    "duration": 5,
    "start_time": "2022-03-08T17:48:01.874Z"
   },
   {
    "duration": 27,
    "start_time": "2022-03-08T17:48:01.880Z"
   },
   {
    "duration": 3,
    "start_time": "2022-03-08T17:48:01.910Z"
   },
   {
    "duration": 8,
    "start_time": "2022-03-08T17:48:01.915Z"
   },
   {
    "duration": 16,
    "start_time": "2022-03-08T17:48:01.925Z"
   },
   {
    "duration": 23,
    "start_time": "2022-03-08T17:48:01.942Z"
   },
   {
    "duration": 2,
    "start_time": "2022-03-08T17:48:01.967Z"
   },
   {
    "duration": 7,
    "start_time": "2022-03-08T17:48:01.971Z"
   },
   {
    "duration": 9,
    "start_time": "2022-03-08T17:48:01.980Z"
   },
   {
    "duration": 5,
    "start_time": "2022-03-08T17:48:01.991Z"
   },
   {
    "duration": 4,
    "start_time": "2022-03-08T17:48:01.998Z"
   },
   {
    "duration": 5,
    "start_time": "2022-03-08T17:48:02.004Z"
   },
   {
    "duration": 401,
    "start_time": "2022-03-08T17:48:11.894Z"
   },
   {
    "duration": 19,
    "start_time": "2022-03-08T17:50:27.527Z"
   },
   {
    "duration": 6,
    "start_time": "2022-03-08T17:50:31.209Z"
   },
   {
    "duration": 5,
    "start_time": "2022-03-08T17:50:42.174Z"
   },
   {
    "duration": 200487,
    "start_time": "2022-03-08T17:52:05.490Z"
   },
   {
    "duration": 4,
    "start_time": "2022-03-08T18:02:17.453Z"
   },
   {
    "duration": 28,
    "start_time": "2022-03-08T18:03:34.277Z"
   },
   {
    "duration": 408,
    "start_time": "2022-03-08T18:05:37.324Z"
   },
   {
    "duration": 4,
    "start_time": "2022-03-08T18:05:41.401Z"
   },
   {
    "duration": 17,
    "start_time": "2022-03-08T18:06:15.670Z"
   },
   {
    "duration": 6,
    "start_time": "2022-03-08T18:06:22.853Z"
   },
   {
    "duration": 205,
    "start_time": "2022-03-08T18:06:39.226Z"
   },
   {
    "duration": 4,
    "start_time": "2022-03-08T18:06:42.411Z"
   },
   {
    "duration": 20,
    "start_time": "2022-03-08T18:06:54.259Z"
   },
   {
    "duration": 20,
    "start_time": "2022-03-08T18:06:59.282Z"
   },
   {
    "duration": 399,
    "start_time": "2022-03-08T18:07:09.572Z"
   },
   {
    "duration": 37287,
    "start_time": "2022-03-08T18:08:39.460Z"
   },
   {
    "duration": 4,
    "start_time": "2022-03-08T18:09:33.497Z"
   },
   {
    "duration": 412225,
    "start_time": "2022-03-08T18:13:16.130Z"
   },
   {
    "duration": 8,
    "start_time": "2022-03-08T18:20:08.356Z"
   },
   {
    "duration": 432,
    "start_time": "2022-03-08T18:20:08.366Z"
   },
   {
    "duration": 2,
    "start_time": "2022-03-08T18:20:08.800Z"
   },
   {
    "duration": 11,
    "start_time": "2022-03-08T18:20:08.803Z"
   },
   {
    "duration": 55,
    "start_time": "2022-03-08T18:20:08.815Z"
   },
   {
    "duration": 3,
    "start_time": "2022-03-08T19:58:55.055Z"
   },
   {
    "duration": 2,
    "start_time": "2022-03-08T19:58:58.092Z"
   },
   {
    "duration": 360,
    "start_time": "2022-03-08T20:00:20.663Z"
   },
   {
    "duration": 222,
    "start_time": "2022-03-08T20:00:31.635Z"
   },
   {
    "duration": 20,
    "start_time": "2022-03-08T20:00:42.968Z"
   },
   {
    "duration": 249,
    "start_time": "2022-03-08T20:01:49.483Z"
   },
   {
    "duration": 8,
    "start_time": "2022-03-08T20:02:58.940Z"
   },
   {
    "duration": 13,
    "start_time": "2022-03-08T20:03:08.732Z"
   },
   {
    "duration": 19,
    "start_time": "2022-03-08T20:03:23.267Z"
   },
   {
    "duration": 17,
    "start_time": "2022-03-08T20:03:37.855Z"
   },
   {
    "duration": 7,
    "start_time": "2022-03-08T20:04:33.507Z"
   },
   {
    "duration": 12,
    "start_time": "2022-03-08T20:05:07.963Z"
   },
   {
    "duration": 5,
    "start_time": "2022-03-08T21:32:28.918Z"
   },
   {
    "duration": 221,
    "start_time": "2022-03-08T21:33:53.372Z"
   },
   {
    "duration": 4,
    "start_time": "2022-03-08T21:36:24.090Z"
   },
   {
    "duration": 6,
    "start_time": "2022-03-08T21:37:31.839Z"
   },
   {
    "duration": 251,
    "start_time": "2022-03-08T21:39:32.347Z"
   },
   {
    "duration": 233,
    "start_time": "2022-03-08T21:41:48.841Z"
   },
   {
    "duration": 10,
    "start_time": "2022-03-08T21:42:10.003Z"
   },
   {
    "duration": 22,
    "start_time": "2022-03-08T21:44:43.311Z"
   },
   {
    "duration": 11,
    "start_time": "2022-03-08T21:44:50.180Z"
   },
   {
    "duration": 10,
    "start_time": "2022-03-08T21:44:55.144Z"
   },
   {
    "duration": 12,
    "start_time": "2022-03-08T21:45:42.355Z"
   },
   {
    "duration": 11,
    "start_time": "2022-03-08T21:46:33.776Z"
   },
   {
    "duration": 27,
    "start_time": "2022-03-08T21:47:58.517Z"
   },
   {
    "duration": 22,
    "start_time": "2022-03-08T21:48:22.631Z"
   },
   {
    "duration": 28,
    "start_time": "2022-03-08T21:48:30.577Z"
   },
   {
    "duration": 581,
    "start_time": "2022-03-08T21:49:45.710Z"
   },
   {
    "duration": 502,
    "start_time": "2022-03-08T21:49:46.292Z"
   },
   {
    "duration": 2,
    "start_time": "2022-03-08T21:49:46.796Z"
   },
   {
    "duration": 13,
    "start_time": "2022-03-08T21:49:46.800Z"
   },
   {
    "duration": 9,
    "start_time": "2022-03-08T21:49:46.814Z"
   },
   {
    "duration": 9,
    "start_time": "2022-03-08T21:49:46.825Z"
   },
   {
    "duration": 3,
    "start_time": "2022-03-08T21:49:46.836Z"
   },
   {
    "duration": 35,
    "start_time": "2022-03-08T21:49:46.841Z"
   },
   {
    "duration": 4,
    "start_time": "2022-03-08T21:49:46.878Z"
   },
   {
    "duration": 11,
    "start_time": "2022-03-08T21:49:46.884Z"
   },
   {
    "duration": 15,
    "start_time": "2022-03-08T21:49:46.896Z"
   },
   {
    "duration": 7,
    "start_time": "2022-03-08T21:49:46.913Z"
   },
   {
    "duration": 3,
    "start_time": "2022-03-08T21:49:46.922Z"
   },
   {
    "duration": 6,
    "start_time": "2022-03-08T21:49:46.926Z"
   },
   {
    "duration": 32,
    "start_time": "2022-03-08T21:49:46.934Z"
   },
   {
    "duration": 5,
    "start_time": "2022-03-08T21:49:46.968Z"
   },
   {
    "duration": 4,
    "start_time": "2022-03-08T21:49:46.975Z"
   },
   {
    "duration": 5,
    "start_time": "2022-03-08T21:49:46.981Z"
   },
   {
    "duration": 435,
    "start_time": "2022-03-08T21:49:46.987Z"
   },
   {
    "duration": 3,
    "start_time": "2022-03-08T21:49:47.424Z"
   },
   {
    "duration": 27,
    "start_time": "2022-03-08T21:49:47.428Z"
   },
   {
    "duration": 9,
    "start_time": "2022-03-08T21:49:47.457Z"
   },
   {
    "duration": 5,
    "start_time": "2022-03-08T21:49:47.470Z"
   },
   {
    "duration": 196508,
    "start_time": "2022-03-08T21:49:47.477Z"
   },
   {
    "duration": 4,
    "start_time": "2022-03-08T21:53:03.986Z"
   },
   {
    "duration": 24,
    "start_time": "2022-03-08T21:53:03.991Z"
   },
   {
    "duration": 6,
    "start_time": "2022-03-08T21:53:04.016Z"
   },
   {
    "duration": 8,
    "start_time": "2022-03-08T21:53:04.023Z"
   },
   {
    "duration": 447,
    "start_time": "2022-03-08T21:53:04.033Z"
   },
   {
    "duration": 3,
    "start_time": "2022-03-08T21:53:04.482Z"
   },
   {
    "duration": 13,
    "start_time": "2022-03-08T21:53:04.487Z"
   },
   {
    "duration": 9,
    "start_time": "2022-03-08T21:53:04.501Z"
   },
   {
    "duration": 215,
    "start_time": "2022-03-08T21:53:04.511Z"
   },
   {
    "duration": 2,
    "start_time": "2022-03-08T21:53:04.728Z"
   },
   {
    "duration": 40,
    "start_time": "2022-03-08T21:53:04.732Z"
   },
   {
    "duration": 28,
    "start_time": "2022-03-08T21:53:04.774Z"
   },
   {
    "duration": 443,
    "start_time": "2022-03-08T21:53:04.804Z"
   },
   {
    "duration": 4,
    "start_time": "2022-03-08T21:53:05.249Z"
   },
   {
    "duration": 39151,
    "start_time": "2022-03-08T21:53:05.264Z"
   },
   {
    "duration": 4,
    "start_time": "2022-03-08T21:53:44.417Z"
   },
   {
    "duration": 15,
    "start_time": "2022-03-08T21:53:44.422Z"
   },
   {
    "duration": 414030,
    "start_time": "2022-03-08T21:53:44.439Z"
   },
   {
    "duration": 4,
    "start_time": "2022-03-08T22:00:38.471Z"
   },
   {
    "duration": 437,
    "start_time": "2022-03-08T22:00:38.477Z"
   },
   {
    "duration": 2,
    "start_time": "2022-03-08T22:00:38.916Z"
   },
   {
    "duration": 12,
    "start_time": "2022-03-08T22:00:38.920Z"
   },
   {
    "duration": 41,
    "start_time": "2022-03-08T22:00:38.934Z"
   },
   {
    "duration": 200,
    "start_time": "2022-03-08T22:00:38.977Z"
   },
   {
    "duration": 11,
    "start_time": "2022-03-08T22:00:39.179Z"
   },
   {
    "duration": 107,
    "start_time": "2022-03-08T22:00:39.263Z"
   },
   {
    "duration": 96,
    "start_time": "2022-03-08T22:00:39.375Z"
   },
   {
    "duration": 196,
    "start_time": "2022-03-08T22:00:39.472Z"
   },
   {
    "duration": 15,
    "start_time": "2022-03-08T22:00:39.670Z"
   },
   {
    "duration": 79,
    "start_time": "2022-03-08T22:00:39.687Z"
   },
   {
    "duration": 10,
    "start_time": "2022-03-08T22:04:53.887Z"
   },
   {
    "duration": 1188056,
    "start_time": "2022-03-08T22:07:11.599Z"
   },
   {
    "duration": 4,
    "start_time": "2022-03-08T22:29:24.097Z"
   },
   {
    "duration": 13,
    "start_time": "2022-03-08T22:29:39.046Z"
   },
   {
    "duration": 10,
    "start_time": "2022-03-08T22:30:16.928Z"
   },
   {
    "duration": 12,
    "start_time": "2022-03-08T22:30:19.704Z"
   },
   {
    "duration": 13252,
    "start_time": "2022-03-08T22:33:19.182Z"
   },
   {
    "duration": 3,
    "start_time": "2022-03-08T22:33:40.881Z"
   },
   {
    "duration": 11,
    "start_time": "2022-03-08T22:34:05.501Z"
   },
   {
    "duration": 14,
    "start_time": "2022-03-08T22:35:02.669Z"
   },
   {
    "duration": 8389,
    "start_time": "2022-03-08T22:36:11.484Z"
   },
   {
    "duration": 3,
    "start_time": "2022-03-08T22:36:29.564Z"
   },
   {
    "duration": 8,
    "start_time": "2022-03-08T22:36:39.845Z"
   },
   {
    "duration": 8,
    "start_time": "2022-03-08T22:37:27.407Z"
   },
   {
    "duration": 13272,
    "start_time": "2022-03-08T22:38:25.448Z"
   },
   {
    "duration": 4,
    "start_time": "2022-03-08T22:38:48.228Z"
   },
   {
    "duration": 10,
    "start_time": "2022-03-08T22:38:53.782Z"
   },
   {
    "duration": 13268,
    "start_time": "2022-03-08T22:39:57.807Z"
   },
   {
    "duration": 3,
    "start_time": "2022-03-08T22:40:17.866Z"
   },
   {
    "duration": 13,
    "start_time": "2022-03-08T22:40:22.911Z"
   },
   {
    "duration": 15,
    "start_time": "2022-03-08T22:40:39.446Z"
   },
   {
    "duration": 13246,
    "start_time": "2022-03-08T22:41:38.059Z"
   },
   {
    "duration": 3,
    "start_time": "2022-03-08T22:42:01.592Z"
   },
   {
    "duration": 9,
    "start_time": "2022-03-08T22:42:05.522Z"
   },
   {
    "duration": 10,
    "start_time": "2022-03-08T22:44:12.283Z"
   },
   {
    "duration": 9,
    "start_time": "2022-03-08T22:44:16.083Z"
   },
   {
    "duration": 4,
    "start_time": "2022-03-08T22:45:12.637Z"
   },
   {
    "duration": 300,
    "start_time": "2022-03-08T22:45:32.577Z"
   },
   {
    "duration": 13,
    "start_time": "2022-03-08T22:49:57.831Z"
   },
   {
    "duration": 216,
    "start_time": "2022-03-08T22:50:42.823Z"
   },
   {
    "duration": 20,
    "start_time": "2022-03-08T22:50:59.653Z"
   },
   {
    "duration": 7,
    "start_time": "2022-03-08T22:51:07.522Z"
   },
   {
    "duration": 15,
    "start_time": "2022-03-08T22:51:12.930Z"
   },
   {
    "duration": 82,
    "start_time": "2022-03-08T22:52:01.481Z"
   },
   {
    "duration": 8,
    "start_time": "2022-03-08T22:52:06.590Z"
   },
   {
    "duration": 9,
    "start_time": "2022-03-08T22:54:24.693Z"
   },
   {
    "duration": 8,
    "start_time": "2022-03-08T22:56:54.440Z"
   },
   {
    "duration": 8,
    "start_time": "2022-03-08T22:58:02.144Z"
   },
   {
    "duration": 353,
    "start_time": "2022-03-09T08:26:03.129Z"
   },
   {
    "duration": 653,
    "start_time": "2022-03-09T08:26:55.270Z"
   },
   {
    "duration": 500,
    "start_time": "2022-03-09T08:26:55.925Z"
   },
   {
    "duration": 2,
    "start_time": "2022-03-09T08:26:56.427Z"
   },
   {
    "duration": 12,
    "start_time": "2022-03-09T08:26:56.432Z"
   },
   {
    "duration": 11,
    "start_time": "2022-03-09T08:26:56.446Z"
   },
   {
    "duration": 26,
    "start_time": "2022-03-09T08:26:56.459Z"
   },
   {
    "duration": 10,
    "start_time": "2022-03-09T08:26:56.486Z"
   },
   {
    "duration": 10,
    "start_time": "2022-03-09T08:26:56.500Z"
   },
   {
    "duration": 8,
    "start_time": "2022-03-09T08:26:56.513Z"
   },
   {
    "duration": 8,
    "start_time": "2022-03-09T08:26:56.523Z"
   },
   {
    "duration": 5,
    "start_time": "2022-03-09T08:26:56.578Z"
   },
   {
    "duration": 21,
    "start_time": "2022-03-09T08:26:56.584Z"
   },
   {
    "duration": 4,
    "start_time": "2022-03-09T08:26:56.606Z"
   },
   {
    "duration": 7,
    "start_time": "2022-03-09T08:26:56.611Z"
   },
   {
    "duration": 17,
    "start_time": "2022-03-09T08:26:56.619Z"
   },
   {
    "duration": 7,
    "start_time": "2022-03-09T08:26:56.637Z"
   },
   {
    "duration": 31,
    "start_time": "2022-03-09T08:26:56.646Z"
   },
   {
    "duration": 4,
    "start_time": "2022-03-09T08:26:56.679Z"
   },
   {
    "duration": 9,
    "start_time": "2022-03-09T08:26:56.685Z"
   },
   {
    "duration": 8,
    "start_time": "2022-03-09T08:26:56.695Z"
   },
   {
    "duration": 5,
    "start_time": "2022-03-09T08:26:56.704Z"
   },
   {
    "duration": 6,
    "start_time": "2022-03-09T08:26:56.710Z"
   },
   {
    "duration": 455,
    "start_time": "2022-03-09T08:26:56.718Z"
   },
   {
    "duration": 3,
    "start_time": "2022-03-09T08:26:57.175Z"
   },
   {
    "duration": 22,
    "start_time": "2022-03-09T08:26:57.180Z"
   },
   {
    "duration": 5,
    "start_time": "2022-03-09T08:26:57.204Z"
   },
   {
    "duration": 5,
    "start_time": "2022-03-09T08:26:57.211Z"
   },
   {
    "duration": 212432,
    "start_time": "2022-03-09T08:26:57.218Z"
   },
   {
    "duration": 3,
    "start_time": "2022-03-09T08:30:29.652Z"
   },
   {
    "duration": 60,
    "start_time": "2022-03-09T08:30:29.656Z"
   },
   {
    "duration": 16,
    "start_time": "2022-03-09T08:30:29.717Z"
   },
   {
    "duration": 37,
    "start_time": "2022-03-09T08:30:29.735Z"
   },
   {
    "duration": 472,
    "start_time": "2022-03-09T08:30:29.774Z"
   },
   {
    "duration": 3,
    "start_time": "2022-03-09T08:30:30.248Z"
   },
   {
    "duration": 32,
    "start_time": "2022-03-09T08:30:30.253Z"
   },
   {
    "duration": 34,
    "start_time": "2022-03-09T08:30:30.287Z"
   },
   {
    "duration": 235,
    "start_time": "2022-03-09T08:30:30.322Z"
   },
   {
    "duration": 3,
    "start_time": "2022-03-09T08:30:30.559Z"
   },
   {
    "duration": 14,
    "start_time": "2022-03-09T08:32:14.616Z"
   },
   {
    "duration": 716,
    "start_time": "2022-03-09T08:33:15.465Z"
   },
   {
    "duration": 8,
    "start_time": "2022-03-09T08:33:25.778Z"
   },
   {
    "duration": 467,
    "start_time": "2022-03-09T08:33:42.944Z"
   },
   {
    "duration": 15,
    "start_time": "2022-03-09T08:33:56.404Z"
   },
   {
    "duration": 6,
    "start_time": "2022-03-09T08:34:00.037Z"
   },
   {
    "duration": 289904,
    "start_time": "2022-03-09T08:36:03.409Z"
   },
   {
    "duration": 4,
    "start_time": "2022-03-09T08:40:53.315Z"
   },
   {
    "duration": 155,
    "start_time": "2022-03-09T08:40:53.321Z"
   },
   {
    "duration": 122764,
    "start_time": "2022-03-09T08:46:23.909Z"
   },
   {
    "duration": 4,
    "start_time": "2022-03-09T08:48:26.675Z"
   },
   {
    "duration": 16,
    "start_time": "2022-03-09T08:48:26.681Z"
   },
   {
    "duration": 14,
    "start_time": "2022-03-09T09:04:55.412Z"
   },
   {
    "duration": 5,
    "start_time": "2022-03-09T09:04:57.828Z"
   },
   {
    "duration": 12,
    "start_time": "2022-03-09T09:05:50.986Z"
   },
   {
    "duration": 654,
    "start_time": "2022-03-09T09:07:09.201Z"
   },
   {
    "duration": 470,
    "start_time": "2022-03-09T09:07:09.857Z"
   },
   {
    "duration": 3,
    "start_time": "2022-03-09T09:07:10.329Z"
   },
   {
    "duration": 13,
    "start_time": "2022-03-09T09:07:10.334Z"
   },
   {
    "duration": 10,
    "start_time": "2022-03-09T09:07:10.349Z"
   },
   {
    "duration": 19,
    "start_time": "2022-03-09T09:07:10.360Z"
   },
   {
    "duration": 10,
    "start_time": "2022-03-09T09:07:10.380Z"
   },
   {
    "duration": 9,
    "start_time": "2022-03-09T09:07:10.393Z"
   },
   {
    "duration": 9,
    "start_time": "2022-03-09T09:07:10.405Z"
   },
   {
    "duration": 11,
    "start_time": "2022-03-09T09:07:10.415Z"
   },
   {
    "duration": 6,
    "start_time": "2022-03-09T09:07:10.427Z"
   },
   {
    "duration": 54,
    "start_time": "2022-03-09T09:07:10.434Z"
   },
   {
    "duration": 4,
    "start_time": "2022-03-09T09:07:10.490Z"
   },
   {
    "duration": 16,
    "start_time": "2022-03-09T09:07:10.496Z"
   },
   {
    "duration": 21,
    "start_time": "2022-03-09T09:07:10.514Z"
   },
   {
    "duration": 15,
    "start_time": "2022-03-09T09:07:10.537Z"
   },
   {
    "duration": 8,
    "start_time": "2022-03-09T09:07:10.553Z"
   },
   {
    "duration": 9,
    "start_time": "2022-03-09T09:07:10.563Z"
   },
   {
    "duration": 10,
    "start_time": "2022-03-09T09:07:10.577Z"
   },
   {
    "duration": 8,
    "start_time": "2022-03-09T09:07:10.589Z"
   },
   {
    "duration": 6,
    "start_time": "2022-03-09T09:07:10.599Z"
   },
   {
    "duration": 6,
    "start_time": "2022-03-09T09:07:10.607Z"
   },
   {
    "duration": 470,
    "start_time": "2022-03-09T09:07:10.617Z"
   },
   {
    "duration": 3,
    "start_time": "2022-03-09T09:07:11.090Z"
   },
   {
    "duration": 23,
    "start_time": "2022-03-09T09:07:11.095Z"
   },
   {
    "duration": 6,
    "start_time": "2022-03-09T09:07:11.120Z"
   },
   {
    "duration": 9,
    "start_time": "2022-03-09T09:07:11.128Z"
   },
   {
    "duration": 212060,
    "start_time": "2022-03-09T09:07:11.138Z"
   },
   {
    "duration": 3,
    "start_time": "2022-03-09T09:10:43.200Z"
   },
   {
    "duration": 27,
    "start_time": "2022-03-09T09:10:43.205Z"
   },
   {
    "duration": 6,
    "start_time": "2022-03-09T09:10:43.233Z"
   },
   {
    "duration": 8,
    "start_time": "2022-03-09T09:10:43.241Z"
   },
   {
    "duration": 472,
    "start_time": "2022-03-09T09:10:43.251Z"
   },
   {
    "duration": 3,
    "start_time": "2022-03-09T09:10:43.725Z"
   },
   {
    "duration": 18,
    "start_time": "2022-03-09T09:10:43.729Z"
   },
   {
    "duration": 6,
    "start_time": "2022-03-09T09:10:43.748Z"
   },
   {
    "duration": 231,
    "start_time": "2022-03-09T09:10:43.755Z"
   },
   {
    "duration": 3,
    "start_time": "2022-03-09T09:10:43.988Z"
   },
   {
    "duration": 123546,
    "start_time": "2022-03-09T09:10:43.993Z"
   },
   {
    "duration": 3,
    "start_time": "2022-03-09T09:12:47.541Z"
   },
   {
    "duration": 15,
    "start_time": "2022-03-09T09:12:47.546Z"
   },
   {
    "duration": 24,
    "start_time": "2022-03-09T09:12:47.563Z"
   },
   {
    "duration": 5,
    "start_time": "2022-03-09T09:12:47.589Z"
   },
   {
    "duration": 295426,
    "start_time": "2022-03-09T09:12:47.596Z"
   },
   {
    "duration": 4,
    "start_time": "2022-03-09T09:17:43.023Z"
   },
   {
    "duration": 164,
    "start_time": "2022-03-09T09:17:43.029Z"
   },
   {
    "duration": 25,
    "start_time": "2022-03-09T09:17:43.196Z"
   },
   {
    "duration": 32,
    "start_time": "2022-03-09T09:17:43.223Z"
   },
   {
    "duration": 464,
    "start_time": "2022-03-09T09:17:43.278Z"
   },
   {
    "duration": 3,
    "start_time": "2022-03-09T09:17:43.743Z"
   },
   {
    "duration": 15312,
    "start_time": "2022-03-09T09:17:43.748Z"
   },
   {
    "duration": 4,
    "start_time": "2022-03-09T09:17:59.062Z"
   },
   {
    "duration": 12,
    "start_time": "2022-03-09T09:17:59.077Z"
   },
   {
    "duration": 13,
    "start_time": "2022-03-09T09:17:59.091Z"
   },
   {
    "duration": 7,
    "start_time": "2022-03-09T09:17:59.105Z"
   },
   {
    "duration": 14,
    "start_time": "2022-03-09T09:17:59.114Z"
   },
   {
    "duration": 292756,
    "start_time": "2022-03-09T09:17:59.130Z"
   },
   {
    "duration": 3,
    "start_time": "2022-03-09T09:22:51.888Z"
   },
   {
    "duration": 150,
    "start_time": "2022-03-09T09:22:51.892Z"
   },
   {
    "duration": 9,
    "start_time": "2022-03-09T09:22:52.043Z"
   },
   {
    "duration": 33,
    "start_time": "2022-03-09T09:22:52.053Z"
   },
   {
    "duration": 191,
    "start_time": "2022-03-09T09:22:52.090Z"
   },
   {
    "duration": 11,
    "start_time": "2022-03-09T09:22:52.283Z"
   },
   {
    "duration": 89,
    "start_time": "2022-03-09T09:22:52.296Z"
   },
   {
    "duration": 93,
    "start_time": "2022-03-09T09:22:52.388Z"
   },
   {
    "duration": 94,
    "start_time": "2022-03-09T09:22:52.483Z"
   },
   {
    "duration": 103,
    "start_time": "2022-03-09T09:22:52.580Z"
   },
   {
    "duration": 152,
    "start_time": "2022-03-09T09:22:52.688Z"
   },
   {
    "duration": 150,
    "start_time": "2022-03-09T09:22:52.842Z"
   },
   {
    "duration": 12,
    "start_time": "2022-03-09T09:43:52.871Z"
   },
   {
    "duration": 504,
    "start_time": "2022-03-09T09:52:00.842Z"
   },
   {
    "duration": 147,
    "start_time": "2022-03-09T10:08:21.148Z"
   },
   {
    "duration": 139,
    "start_time": "2022-03-09T10:09:03.593Z"
   },
   {
    "duration": 140,
    "start_time": "2022-03-09T10:09:05.772Z"
   },
   {
    "duration": 656,
    "start_time": "2022-03-09T10:09:48.716Z"
   },
   {
    "duration": 473,
    "start_time": "2022-03-09T10:09:49.374Z"
   },
   {
    "duration": 3,
    "start_time": "2022-03-09T10:09:49.852Z"
   },
   {
    "duration": 30,
    "start_time": "2022-03-09T10:09:49.857Z"
   },
   {
    "duration": 13,
    "start_time": "2022-03-09T10:09:49.890Z"
   },
   {
    "duration": 29,
    "start_time": "2022-03-09T10:09:49.905Z"
   },
   {
    "duration": 19,
    "start_time": "2022-03-09T10:09:49.938Z"
   },
   {
    "duration": 16,
    "start_time": "2022-03-09T10:09:49.960Z"
   },
   {
    "duration": 19,
    "start_time": "2022-03-09T10:09:49.978Z"
   },
   {
    "duration": 16,
    "start_time": "2022-03-09T10:09:49.999Z"
   },
   {
    "duration": 15,
    "start_time": "2022-03-09T10:09:50.017Z"
   },
   {
    "duration": 24,
    "start_time": "2022-03-09T10:09:50.034Z"
   },
   {
    "duration": 5,
    "start_time": "2022-03-09T10:09:50.060Z"
   },
   {
    "duration": 12,
    "start_time": "2022-03-09T10:09:50.067Z"
   },
   {
    "duration": 26,
    "start_time": "2022-03-09T10:09:50.080Z"
   },
   {
    "duration": 10,
    "start_time": "2022-03-09T10:09:50.108Z"
   },
   {
    "duration": 3,
    "start_time": "2022-03-09T10:09:50.120Z"
   },
   {
    "duration": 10,
    "start_time": "2022-03-09T10:09:50.125Z"
   },
   {
    "duration": 13,
    "start_time": "2022-03-09T10:09:50.136Z"
   },
   {
    "duration": 18,
    "start_time": "2022-03-09T10:09:50.150Z"
   },
   {
    "duration": 8,
    "start_time": "2022-03-09T10:09:50.170Z"
   },
   {
    "duration": 10,
    "start_time": "2022-03-09T10:09:50.182Z"
   },
   {
    "duration": 582,
    "start_time": "2022-03-09T10:09:50.195Z"
   },
   {
    "duration": 4,
    "start_time": "2022-03-09T10:09:50.778Z"
   },
   {
    "duration": 27,
    "start_time": "2022-03-09T10:09:50.784Z"
   },
   {
    "duration": 8,
    "start_time": "2022-03-09T10:09:50.813Z"
   },
   {
    "duration": 8,
    "start_time": "2022-03-09T10:09:50.823Z"
   },
   {
    "duration": 235127,
    "start_time": "2022-03-09T10:09:50.832Z"
   },
   {
    "duration": 4,
    "start_time": "2022-03-09T10:13:45.960Z"
   },
   {
    "duration": 26,
    "start_time": "2022-03-09T10:13:45.977Z"
   },
   {
    "duration": 6,
    "start_time": "2022-03-09T10:13:46.005Z"
   },
   {
    "duration": 5,
    "start_time": "2022-03-09T10:13:46.013Z"
   },
   {
    "duration": 604,
    "start_time": "2022-03-09T10:13:46.020Z"
   },
   {
    "duration": 3,
    "start_time": "2022-03-09T10:13:46.626Z"
   },
   {
    "duration": 16,
    "start_time": "2022-03-09T10:13:46.631Z"
   },
   {
    "duration": 5,
    "start_time": "2022-03-09T10:13:46.649Z"
   },
   {
    "duration": 286,
    "start_time": "2022-03-09T10:13:46.656Z"
   },
   {
    "duration": 4,
    "start_time": "2022-03-09T10:13:46.944Z"
   },
   {
    "duration": 130277,
    "start_time": "2022-03-09T10:13:46.950Z"
   },
   {
    "duration": 3,
    "start_time": "2022-03-09T10:15:57.229Z"
   },
   {
    "duration": 24,
    "start_time": "2022-03-09T10:15:57.234Z"
   },
   {
    "duration": 24,
    "start_time": "2022-03-09T10:15:57.259Z"
   },
   {
    "duration": 6,
    "start_time": "2022-03-09T10:15:57.284Z"
   },
   {
    "duration": 324840,
    "start_time": "2022-03-09T10:15:57.291Z"
   },
   {
    "duration": 3,
    "start_time": "2022-03-09T10:21:22.133Z"
   },
   {
    "duration": 128,
    "start_time": "2022-03-09T10:21:22.138Z"
   },
   {
    "duration": 30,
    "start_time": "2022-03-09T10:21:22.268Z"
   },
   {
    "duration": 32,
    "start_time": "2022-03-09T10:21:22.299Z"
   },
   {
    "duration": 567,
    "start_time": "2022-03-09T10:21:22.332Z"
   },
   {
    "duration": 3,
    "start_time": "2022-03-09T10:21:22.901Z"
   },
   {
    "duration": 16471,
    "start_time": "2022-03-09T10:21:22.906Z"
   },
   {
    "duration": 4,
    "start_time": "2022-03-09T10:21:39.379Z"
   },
   {
    "duration": 17,
    "start_time": "2022-03-09T10:21:39.386Z"
   },
   {
    "duration": 14,
    "start_time": "2022-03-09T10:21:39.405Z"
   },
   {
    "duration": 7,
    "start_time": "2022-03-09T10:21:39.421Z"
   },
   {
    "duration": 48,
    "start_time": "2022-03-09T10:21:39.430Z"
   },
   {
    "duration": 321454,
    "start_time": "2022-03-09T10:21:39.481Z"
   },
   {
    "duration": 4,
    "start_time": "2022-03-09T10:27:00.937Z"
   },
   {
    "duration": 129,
    "start_time": "2022-03-09T10:27:00.942Z"
   },
   {
    "duration": 10,
    "start_time": "2022-03-09T10:27:01.077Z"
   },
   {
    "duration": 9,
    "start_time": "2022-03-09T10:27:01.089Z"
   },
   {
    "duration": 108,
    "start_time": "2022-03-09T10:27:01.179Z"
   },
   {
    "duration": 12,
    "start_time": "2022-03-09T10:27:01.288Z"
   },
   {
    "duration": 104,
    "start_time": "2022-03-09T10:27:01.378Z"
   },
   {
    "duration": 93,
    "start_time": "2022-03-09T10:27:01.486Z"
   },
   {
    "duration": 101,
    "start_time": "2022-03-09T10:27:01.583Z"
   },
   {
    "duration": 130,
    "start_time": "2022-03-09T10:27:01.689Z"
   },
   {
    "duration": 132,
    "start_time": "2022-03-09T10:27:01.821Z"
   },
   {
    "duration": 131,
    "start_time": "2022-03-09T10:27:01.955Z"
   },
   {
    "duration": 12,
    "start_time": "2022-03-09T10:45:01.451Z"
   },
   {
    "duration": 353,
    "start_time": "2022-03-09T10:45:59.353Z"
   },
   {
    "duration": 4,
    "start_time": "2022-03-09T10:46:12.490Z"
   },
   {
    "duration": 265,
    "start_time": "2022-03-09T10:46:59.281Z"
   },
   {
    "duration": 631,
    "start_time": "2022-03-09T10:48:36.723Z"
   },
   {
    "duration": 490,
    "start_time": "2022-03-09T10:48:37.356Z"
   },
   {
    "duration": 3,
    "start_time": "2022-03-09T10:48:37.848Z"
   },
   {
    "duration": 31,
    "start_time": "2022-03-09T10:48:37.853Z"
   },
   {
    "duration": 15,
    "start_time": "2022-03-09T10:48:37.886Z"
   },
   {
    "duration": 34,
    "start_time": "2022-03-09T10:48:37.903Z"
   },
   {
    "duration": 26,
    "start_time": "2022-03-09T10:48:37.938Z"
   },
   {
    "duration": 20,
    "start_time": "2022-03-09T10:48:37.966Z"
   },
   {
    "duration": 29,
    "start_time": "2022-03-09T10:48:37.988Z"
   },
   {
    "duration": 23,
    "start_time": "2022-03-09T10:48:38.019Z"
   },
   {
    "duration": 20,
    "start_time": "2022-03-09T10:48:38.044Z"
   },
   {
    "duration": 41,
    "start_time": "2022-03-09T10:48:38.065Z"
   },
   {
    "duration": 5,
    "start_time": "2022-03-09T10:48:38.108Z"
   },
   {
    "duration": 19,
    "start_time": "2022-03-09T10:48:38.114Z"
   },
   {
    "duration": 22,
    "start_time": "2022-03-09T10:48:38.135Z"
   },
   {
    "duration": 30,
    "start_time": "2022-03-09T10:48:38.159Z"
   },
   {
    "duration": 17,
    "start_time": "2022-03-09T10:48:38.191Z"
   },
   {
    "duration": 30,
    "start_time": "2022-03-09T10:48:38.210Z"
   },
   {
    "duration": 26,
    "start_time": "2022-03-09T10:48:38.242Z"
   },
   {
    "duration": 14,
    "start_time": "2022-03-09T10:48:38.270Z"
   },
   {
    "duration": 16,
    "start_time": "2022-03-09T10:48:38.286Z"
   },
   {
    "duration": 45,
    "start_time": "2022-03-09T10:48:38.304Z"
   },
   {
    "duration": 478,
    "start_time": "2022-03-09T10:48:38.356Z"
   },
   {
    "duration": 3,
    "start_time": "2022-03-09T10:48:38.837Z"
   },
   {
    "duration": 42,
    "start_time": "2022-03-09T10:48:38.841Z"
   },
   {
    "duration": 19,
    "start_time": "2022-03-09T10:48:38.885Z"
   },
   {
    "duration": 41,
    "start_time": "2022-03-09T10:48:38.906Z"
   },
   {
    "duration": 217369,
    "start_time": "2022-03-09T10:48:38.949Z"
   },
   {
    "duration": 3,
    "start_time": "2022-03-09T10:52:16.320Z"
   },
   {
    "duration": 28,
    "start_time": "2022-03-09T10:52:16.325Z"
   },
   {
    "duration": 6,
    "start_time": "2022-03-09T10:52:16.355Z"
   },
   {
    "duration": 4,
    "start_time": "2022-03-09T10:52:16.378Z"
   },
   {
    "duration": 483,
    "start_time": "2022-03-09T10:52:16.384Z"
   },
   {
    "duration": 3,
    "start_time": "2022-03-09T10:52:16.869Z"
   },
   {
    "duration": 14,
    "start_time": "2022-03-09T10:52:16.877Z"
   },
   {
    "duration": 5,
    "start_time": "2022-03-09T10:52:16.893Z"
   },
   {
    "duration": 243,
    "start_time": "2022-03-09T10:52:16.899Z"
   },
   {
    "duration": 3,
    "start_time": "2022-03-09T10:52:17.144Z"
   },
   {
    "duration": 127776,
    "start_time": "2022-03-09T10:52:17.149Z"
   },
   {
    "duration": 3,
    "start_time": "2022-03-09T10:54:24.927Z"
   },
   {
    "duration": 18,
    "start_time": "2022-03-09T10:54:24.932Z"
   },
   {
    "duration": 17,
    "start_time": "2022-03-09T10:54:24.952Z"
   },
   {
    "duration": 6,
    "start_time": "2022-03-09T10:54:24.977Z"
   },
   {
    "duration": 299004,
    "start_time": "2022-03-09T10:54:24.985Z"
   },
   {
    "duration": 4,
    "start_time": "2022-03-09T10:59:23.990Z"
   },
   {
    "duration": 164,
    "start_time": "2022-03-09T10:59:23.995Z"
   },
   {
    "duration": 35,
    "start_time": "2022-03-09T10:59:24.160Z"
   },
   {
    "duration": 37,
    "start_time": "2022-03-09T10:59:24.197Z"
   },
   {
    "duration": 490,
    "start_time": "2022-03-09T10:59:24.236Z"
   },
   {
    "duration": 3,
    "start_time": "2022-03-09T10:59:24.728Z"
   },
   {
    "duration": 15470,
    "start_time": "2022-03-09T10:59:24.733Z"
   },
   {
    "duration": 4,
    "start_time": "2022-03-09T10:59:40.204Z"
   },
   {
    "duration": 13,
    "start_time": "2022-03-09T10:59:40.210Z"
   },
   {
    "duration": 12,
    "start_time": "2022-03-09T10:59:40.224Z"
   },
   {
    "duration": 6,
    "start_time": "2022-03-09T10:59:40.237Z"
   },
   {
    "duration": 49,
    "start_time": "2022-03-09T10:59:40.245Z"
   },
   {
    "duration": 303499,
    "start_time": "2022-03-09T10:59:40.296Z"
   },
   {
    "duration": 4,
    "start_time": "2022-03-09T11:04:43.797Z"
   },
   {
    "duration": 166,
    "start_time": "2022-03-09T11:04:43.803Z"
   },
   {
    "duration": 12,
    "start_time": "2022-03-09T11:04:43.976Z"
   },
   {
    "duration": 87,
    "start_time": "2022-03-09T11:04:43.991Z"
   },
   {
    "duration": 109,
    "start_time": "2022-03-09T11:04:44.080Z"
   },
   {
    "duration": 11,
    "start_time": "2022-03-09T11:04:44.191Z"
   },
   {
    "duration": 83,
    "start_time": "2022-03-09T11:04:44.204Z"
   },
   {
    "duration": 92,
    "start_time": "2022-03-09T11:04:44.290Z"
   },
   {
    "duration": 9,
    "start_time": "2022-03-09T11:04:44.477Z"
   },
   {
    "duration": 103,
    "start_time": "2022-03-09T11:04:44.488Z"
   },
   {
    "duration": 156,
    "start_time": "2022-03-09T11:04:44.596Z"
   },
   {
    "duration": 177,
    "start_time": "2022-03-09T11:04:44.755Z"
   },
   {
    "duration": 840,
    "start_time": "2022-03-10T09:43:57.330Z"
   },
   {
    "duration": 345,
    "start_time": "2022-03-10T09:47:00.729Z"
   },
   {
    "duration": 6,
    "start_time": "2022-03-10T09:47:19.706Z"
   },
   {
    "duration": 9,
    "start_time": "2022-03-10T09:48:04.928Z"
   },
   {
    "duration": 35,
    "start_time": "2022-03-10T09:52:44.917Z"
   },
   {
    "duration": 28,
    "start_time": "2022-03-10T09:56:29.115Z"
   },
   {
    "duration": 276,
    "start_time": "2022-03-10T09:56:45.416Z"
   },
   {
    "duration": 6,
    "start_time": "2022-03-10T09:57:05.168Z"
   },
   {
    "duration": 8,
    "start_time": "2022-03-10T09:57:10.622Z"
   },
   {
    "duration": 27,
    "start_time": "2022-03-10T09:57:28.346Z"
   },
   {
    "duration": 6,
    "start_time": "2022-03-10T09:57:49.873Z"
   },
   {
    "duration": 9,
    "start_time": "2022-03-10T09:58:01.183Z"
   },
   {
    "duration": 142,
    "start_time": "2022-03-10T11:43:02.706Z"
   },
   {
    "duration": 948,
    "start_time": "2022-03-10T12:15:25.392Z"
   },
   {
    "duration": 747,
    "start_time": "2022-03-10T12:15:26.343Z"
   },
   {
    "duration": 6,
    "start_time": "2022-03-10T12:15:27.094Z"
   },
   {
    "duration": 1002,
    "start_time": "2022-03-10T12:15:27.102Z"
   },
   {
    "duration": 741,
    "start_time": "2022-03-10T12:15:28.106Z"
   },
   {
    "duration": 894,
    "start_time": "2022-03-10T12:15:28.849Z"
   },
   {
    "duration": 804,
    "start_time": "2022-03-10T12:15:29.746Z"
   },
   {
    "duration": 912,
    "start_time": "2022-03-10T12:15:30.554Z"
   },
   {
    "duration": 715,
    "start_time": "2022-03-10T12:15:31.471Z"
   },
   {
    "duration": 673,
    "start_time": "2022-03-10T12:15:32.189Z"
   },
   {
    "duration": 706,
    "start_time": "2022-03-10T12:15:32.865Z"
   },
   {
    "duration": 859,
    "start_time": "2022-03-10T12:15:33.574Z"
   },
   {
    "duration": 844,
    "start_time": "2022-03-10T12:15:34.435Z"
   },
   {
    "duration": 1191,
    "start_time": "2022-03-10T12:15:35.282Z"
   },
   {
    "duration": 1327,
    "start_time": "2022-03-10T12:15:36.477Z"
   },
   {
    "duration": 957,
    "start_time": "2022-03-10T12:15:37.807Z"
   },
   {
    "duration": 873,
    "start_time": "2022-03-10T12:15:38.767Z"
   },
   {
    "duration": 843,
    "start_time": "2022-03-10T12:15:39.642Z"
   },
   {
    "duration": 729,
    "start_time": "2022-03-10T12:15:40.487Z"
   },
   {
    "duration": 668,
    "start_time": "2022-03-10T12:15:41.218Z"
   },
   {
    "duration": 619,
    "start_time": "2022-03-10T12:15:41.888Z"
   },
   {
    "duration": 794,
    "start_time": "2022-03-10T12:15:42.509Z"
   },
   {
    "duration": 693,
    "start_time": "2022-03-10T12:15:43.309Z"
   },
   {
    "duration": 1084,
    "start_time": "2022-03-10T12:15:44.006Z"
   },
   {
    "duration": 596,
    "start_time": "2022-03-10T12:15:45.092Z"
   },
   {
    "duration": 717,
    "start_time": "2022-03-10T12:15:45.690Z"
   },
   {
    "duration": 464,
    "start_time": "2022-03-10T12:15:46.410Z"
   },
   {
    "duration": 403,
    "start_time": "2022-03-10T12:15:46.876Z"
   },
   {
    "duration": 299644,
    "start_time": "2022-03-10T12:15:47.282Z"
   },
   {
    "duration": 6,
    "start_time": "2022-03-10T12:20:46.928Z"
   },
   {
    "duration": 293,
    "start_time": "2022-03-10T12:20:46.936Z"
   },
   {
    "duration": 484,
    "start_time": "2022-03-10T12:20:47.232Z"
   },
   {
    "duration": 37,
    "start_time": "2022-03-10T12:20:47.718Z"
   },
   {
    "duration": 369,
    "start_time": "2022-03-10T12:20:47.758Z"
   },
   {
    "duration": 488,
    "start_time": "2022-03-10T12:20:48.130Z"
   },
   {
    "duration": 850,
    "start_time": "2022-03-10T12:20:48.620Z"
   },
   {
    "duration": 160,
    "start_time": "2022-03-10T12:20:49.473Z"
   },
   {
    "duration": 920,
    "start_time": "2022-03-10T12:20:49.636Z"
   },
   {
    "duration": 1024,
    "start_time": "2022-03-10T12:20:50.559Z"
   },
   {
    "duration": 1185,
    "start_time": "2022-03-10T12:20:51.585Z"
   },
   {
    "duration": 623,
    "start_time": "2022-03-10T12:20:52.773Z"
   },
   {
    "duration": 197510,
    "start_time": "2022-03-10T12:20:53.399Z"
   },
   {
    "duration": 6,
    "start_time": "2022-03-10T12:24:10.912Z"
   },
   {
    "duration": 310,
    "start_time": "2022-03-10T12:24:10.920Z"
   },
   {
    "duration": 291,
    "start_time": "2022-03-10T12:24:11.232Z"
   },
   {
    "duration": 253,
    "start_time": "2022-03-10T12:24:11.526Z"
   },
   {
    "duration": 433878,
    "start_time": "2022-03-10T12:24:11.781Z"
   },
   {
    "duration": 4,
    "start_time": "2022-03-10T12:31:25.662Z"
   },
   {
    "duration": 2328,
    "start_time": "2022-03-10T12:31:25.669Z"
   },
   {
    "duration": 1110,
    "start_time": "2022-03-10T12:31:28.000Z"
   },
   {
    "duration": 1404,
    "start_time": "2022-03-10T12:31:29.114Z"
   },
   {
    "duration": 2174,
    "start_time": "2022-03-10T12:31:30.521Z"
   },
   {
    "duration": 473,
    "start_time": "2022-03-10T12:31:32.698Z"
   },
   {
    "duration": 22455,
    "start_time": "2022-03-10T12:31:33.174Z"
   },
   {
    "duration": 5,
    "start_time": "2022-03-10T12:31:55.631Z"
   },
   {
    "duration": 1550,
    "start_time": "2022-03-10T12:31:55.638Z"
   },
   {
    "duration": 869,
    "start_time": "2022-03-10T12:31:57.190Z"
   },
   {
    "duration": 1331,
    "start_time": "2022-03-10T12:31:58.061Z"
   },
   {
    "duration": 1152,
    "start_time": "2022-03-10T12:31:59.394Z"
   },
   {
    "duration": 433016,
    "start_time": "2022-03-10T12:32:00.548Z"
   },
   {
    "duration": 5,
    "start_time": "2022-03-10T12:39:13.567Z"
   },
   {
    "duration": 1167,
    "start_time": "2022-03-10T12:39:13.583Z"
   },
   {
    "duration": 738,
    "start_time": "2022-03-10T12:39:14.753Z"
   },
   {
    "duration": 432,
    "start_time": "2022-03-10T12:39:15.494Z"
   },
   {
    "duration": 561,
    "start_time": "2022-03-10T12:39:15.985Z"
   },
   {
    "duration": 1039,
    "start_time": "2022-03-10T12:39:16.550Z"
   },
   {
    "duration": 593,
    "start_time": "2022-03-10T12:39:17.594Z"
   },
   {
    "duration": 676,
    "start_time": "2022-03-10T12:39:18.198Z"
   },
   {
    "duration": 488,
    "start_time": "2022-03-10T12:39:18.879Z"
   },
   {
    "duration": 470,
    "start_time": "2022-03-10T12:39:19.371Z"
   },
   {
    "duration": 1458,
    "start_time": "2022-03-10T12:39:18.386Z"
   },
   {
    "duration": 1425,
    "start_time": "2022-03-10T12:39:18.421Z"
   },
   {
    "duration": 1411,
    "start_time": "2022-03-10T12:39:18.436Z"
   },
   {
    "duration": 1393,
    "start_time": "2022-03-10T12:39:18.456Z"
   },
   {
    "duration": 1384,
    "start_time": "2022-03-10T12:39:18.467Z"
   },
   {
    "duration": 5,
    "start_time": "2022-03-10T13:02:26.491Z"
   },
   {
    "duration": 10,
    "start_time": "2022-03-10T13:02:29.768Z"
   },
   {
    "duration": 4,
    "start_time": "2022-03-10T13:04:09.180Z"
   },
   {
    "duration": 699,
    "start_time": "2022-03-10T13:04:12.152Z"
   },
   {
    "duration": 6,
    "start_time": "2022-03-10T13:05:20.102Z"
   },
   {
    "duration": 11,
    "start_time": "2022-03-10T13:05:24.374Z"
   },
   {
    "duration": 18,
    "start_time": "2022-03-10T13:05:39.465Z"
   },
   {
    "duration": 223,
    "start_time": "2022-03-10T13:05:44.839Z"
   },
   {
    "duration": 239,
    "start_time": "2022-03-10T13:05:53.422Z"
   },
   {
    "duration": 65,
    "start_time": "2022-03-10T13:06:05.566Z"
   },
   {
    "duration": 369,
    "start_time": "2022-03-10T13:06:23.077Z"
   },
   {
    "duration": 301,
    "start_time": "2022-03-10T14:45:41.343Z"
   },
   {
    "duration": 5,
    "start_time": "2022-03-10T14:53:32.974Z"
   },
   {
    "duration": 16,
    "start_time": "2022-03-10T14:53:36.482Z"
   },
   {
    "duration": 11,
    "start_time": "2022-03-10T14:54:22.472Z"
   },
   {
    "duration": 8,
    "start_time": "2022-03-10T14:54:26.019Z"
   },
   {
    "duration": 5,
    "start_time": "2022-03-10T15:25:38.815Z"
   },
   {
    "duration": 567,
    "start_time": "2022-03-10T15:25:42.994Z"
   },
   {
    "duration": 434,
    "start_time": "2022-03-10T15:26:45.468Z"
   },
   {
    "duration": 13,
    "start_time": "2022-03-10T15:30:26.240Z"
   },
   {
    "duration": 428,
    "start_time": "2022-03-10T15:31:08.212Z"
   },
   {
    "duration": 431,
    "start_time": "2022-03-10T15:31:37.887Z"
   },
   {
    "duration": 460,
    "start_time": "2022-03-10T15:32:12.763Z"
   },
   {
    "duration": 407,
    "start_time": "2022-03-10T15:33:10.555Z"
   },
   {
    "duration": 61,
    "start_time": "2022-03-10T15:35:26.123Z"
   },
   {
    "duration": 890,
    "start_time": "2022-03-10T15:46:33.939Z"
   },
   {
    "duration": 581,
    "start_time": "2022-03-10T15:46:34.832Z"
   },
   {
    "duration": 4,
    "start_time": "2022-03-10T15:46:35.415Z"
   },
   {
    "duration": 23,
    "start_time": "2022-03-10T15:46:35.421Z"
   },
   {
    "duration": 14,
    "start_time": "2022-03-10T15:46:35.446Z"
   },
   {
    "duration": 31,
    "start_time": "2022-03-10T15:46:35.463Z"
   },
   {
    "duration": 13,
    "start_time": "2022-03-10T15:46:35.496Z"
   },
   {
    "duration": 13,
    "start_time": "2022-03-10T15:46:35.513Z"
   },
   {
    "duration": 10,
    "start_time": "2022-03-10T15:46:35.529Z"
   },
   {
    "duration": 48,
    "start_time": "2022-03-10T15:46:35.541Z"
   },
   {
    "duration": 11,
    "start_time": "2022-03-10T15:46:35.592Z"
   },
   {
    "duration": 17,
    "start_time": "2022-03-10T15:46:35.605Z"
   },
   {
    "duration": 39,
    "start_time": "2022-03-10T15:46:35.625Z"
   },
   {
    "duration": 16,
    "start_time": "2022-03-10T15:46:35.667Z"
   },
   {
    "duration": 11,
    "start_time": "2022-03-10T15:46:35.686Z"
   },
   {
    "duration": 22,
    "start_time": "2022-03-10T15:46:35.700Z"
   },
   {
    "duration": 13,
    "start_time": "2022-03-10T15:46:35.725Z"
   },
   {
    "duration": 4,
    "start_time": "2022-03-10T15:46:35.741Z"
   },
   {
    "duration": 7,
    "start_time": "2022-03-10T15:46:35.784Z"
   },
   {
    "duration": 14,
    "start_time": "2022-03-10T15:46:35.794Z"
   },
   {
    "duration": 8,
    "start_time": "2022-03-10T15:46:35.811Z"
   },
   {
    "duration": 15,
    "start_time": "2022-03-10T15:46:35.822Z"
   },
   {
    "duration": 5,
    "start_time": "2022-03-10T15:46:35.843Z"
   },
   {
    "duration": 588,
    "start_time": "2022-03-10T15:46:35.851Z"
   },
   {
    "duration": 4,
    "start_time": "2022-03-10T15:46:36.441Z"
   },
   {
    "duration": 44,
    "start_time": "2022-03-10T15:46:36.448Z"
   },
   {
    "duration": 8,
    "start_time": "2022-03-10T15:46:36.494Z"
   },
   {
    "duration": 11,
    "start_time": "2022-03-10T15:46:36.504Z"
   },
   {
    "duration": 297054,
    "start_time": "2022-03-10T15:46:36.517Z"
   },
   {
    "duration": 11,
    "start_time": "2022-03-10T15:51:33.573Z"
   },
   {
    "duration": 10,
    "start_time": "2022-03-10T15:51:33.586Z"
   },
   {
    "duration": 84,
    "start_time": "2022-03-10T15:51:33.598Z"
   },
   {
    "duration": 10,
    "start_time": "2022-03-10T15:51:33.685Z"
   },
   {
    "duration": 8,
    "start_time": "2022-03-10T15:51:33.698Z"
   },
   {
    "duration": 813,
    "start_time": "2022-03-10T15:51:33.709Z"
   },
   {
    "duration": 5,
    "start_time": "2022-03-10T15:51:34.525Z"
   },
   {
    "duration": 23,
    "start_time": "2022-03-10T15:51:34.533Z"
   },
   {
    "duration": 45,
    "start_time": "2022-03-10T15:51:34.558Z"
   },
   {
    "duration": 8,
    "start_time": "2022-03-10T15:51:34.606Z"
   },
   {
    "duration": 392,
    "start_time": "2022-03-10T15:51:34.617Z"
   },
   {
    "duration": 6,
    "start_time": "2022-03-10T15:51:35.012Z"
   },
   {
    "duration": 73,
    "start_time": "2022-03-10T15:51:35.020Z"
   },
   {
    "duration": 171398,
    "start_time": "2022-03-10T15:51:35.096Z"
   },
   {
    "duration": 5,
    "start_time": "2022-03-10T15:54:26.497Z"
   },
   {
    "duration": 19,
    "start_time": "2022-03-10T15:54:26.504Z"
   },
   {
    "duration": 18,
    "start_time": "2022-03-10T15:54:26.525Z"
   },
   {
    "duration": 41,
    "start_time": "2022-03-10T15:54:26.545Z"
   },
   {
    "duration": 404327,
    "start_time": "2022-03-10T15:54:26.588Z"
   },
   {
    "duration": 5,
    "start_time": "2022-03-10T16:01:10.917Z"
   },
   {
    "duration": 78,
    "start_time": "2022-03-10T16:01:10.924Z"
   },
   {
    "duration": 33,
    "start_time": "2022-03-10T16:01:11.005Z"
   },
   {
    "duration": 59,
    "start_time": "2022-03-10T16:01:11.040Z"
   },
   {
    "duration": 553,
    "start_time": "2022-03-10T16:01:11.101Z"
   },
   {
    "duration": 5,
    "start_time": "2022-03-10T16:01:11.656Z"
   },
   {
    "duration": 21,
    "start_time": "2022-03-10T16:01:11.663Z"
   },
   {
    "duration": 20290,
    "start_time": "2022-03-10T16:01:11.687Z"
   },
   {
    "duration": 7,
    "start_time": "2022-03-10T16:01:31.983Z"
   },
   {
    "duration": 35,
    "start_time": "2022-03-10T16:01:31.992Z"
   },
   {
    "duration": 15,
    "start_time": "2022-03-10T16:01:32.029Z"
   },
   {
    "duration": 10,
    "start_time": "2022-03-10T16:01:32.046Z"
   },
   {
    "duration": 26,
    "start_time": "2022-03-10T16:01:32.058Z"
   },
   {
    "duration": 402654,
    "start_time": "2022-03-10T16:01:32.087Z"
   },
   {
    "duration": 5,
    "start_time": "2022-03-10T16:08:14.743Z"
   },
   {
    "duration": 79,
    "start_time": "2022-03-10T16:08:14.750Z"
   },
   {
    "duration": 14,
    "start_time": "2022-03-10T16:08:14.831Z"
   },
   {
    "duration": 234,
    "start_time": "2022-03-10T16:08:14.849Z"
   },
   {
    "duration": 128,
    "start_time": "2022-03-10T16:08:15.087Z"
   },
   {
    "duration": 64,
    "start_time": "2022-03-10T16:08:15.222Z"
   },
   {
    "duration": 197,
    "start_time": "2022-03-10T16:08:15.290Z"
   },
   {
    "duration": 113,
    "start_time": "2022-03-10T16:08:15.490Z"
   },
   {
    "duration": 38,
    "start_time": "2022-03-10T16:08:15.606Z"
   },
   {
    "duration": 45,
    "start_time": "2022-03-10T16:08:15.646Z"
   },
   {
    "duration": 314,
    "start_time": "2022-03-10T16:08:15.694Z"
   },
   {
    "duration": 318,
    "start_time": "2022-03-10T16:38:39.629Z"
   },
   {
    "duration": 17,
    "start_time": "2022-03-10T16:47:29.959Z"
   },
   {
    "duration": 866,
    "start_time": "2022-03-10T16:51:56.606Z"
   },
   {
    "duration": 631,
    "start_time": "2022-03-10T16:51:57.475Z"
   },
   {
    "duration": 4,
    "start_time": "2022-03-10T16:51:58.109Z"
   },
   {
    "duration": 16,
    "start_time": "2022-03-10T16:51:58.118Z"
   },
   {
    "duration": 13,
    "start_time": "2022-03-10T16:51:58.137Z"
   },
   {
    "duration": 41,
    "start_time": "2022-03-10T16:51:58.152Z"
   },
   {
    "duration": 15,
    "start_time": "2022-03-10T16:51:58.196Z"
   },
   {
    "duration": 13,
    "start_time": "2022-03-10T16:51:58.215Z"
   },
   {
    "duration": 53,
    "start_time": "2022-03-10T16:51:58.231Z"
   },
   {
    "duration": 10,
    "start_time": "2022-03-10T16:51:58.286Z"
   },
   {
    "duration": 8,
    "start_time": "2022-03-10T16:51:58.299Z"
   },
   {
    "duration": 12,
    "start_time": "2022-03-10T16:51:58.309Z"
   },
   {
    "duration": 28,
    "start_time": "2022-03-10T16:51:58.324Z"
   },
   {
    "duration": 5,
    "start_time": "2022-03-10T16:51:58.383Z"
   },
   {
    "duration": 14,
    "start_time": "2022-03-10T16:51:58.390Z"
   },
   {
    "duration": 26,
    "start_time": "2022-03-10T16:51:58.406Z"
   },
   {
    "duration": 13,
    "start_time": "2022-03-10T16:51:58.435Z"
   },
   {
    "duration": 4,
    "start_time": "2022-03-10T16:51:58.450Z"
   },
   {
    "duration": 26,
    "start_time": "2022-03-10T16:51:58.456Z"
   },
   {
    "duration": 11,
    "start_time": "2022-03-10T16:51:58.485Z"
   },
   {
    "duration": 9,
    "start_time": "2022-03-10T16:51:58.498Z"
   },
   {
    "duration": 7,
    "start_time": "2022-03-10T16:51:58.510Z"
   },
   {
    "duration": 5,
    "start_time": "2022-03-10T16:51:58.523Z"
   },
   {
    "duration": 610,
    "start_time": "2022-03-10T16:51:58.531Z"
   },
   {
    "duration": 5,
    "start_time": "2022-03-10T16:51:59.144Z"
   },
   {
    "duration": 46,
    "start_time": "2022-03-10T16:51:59.151Z"
   },
   {
    "duration": 8,
    "start_time": "2022-03-10T16:51:59.200Z"
   },
   {
    "duration": 7,
    "start_time": "2022-03-10T16:51:59.211Z"
   },
   {
    "duration": 297095,
    "start_time": "2022-03-10T16:51:59.221Z"
   },
   {
    "duration": 5,
    "start_time": "2022-03-10T16:56:56.318Z"
   },
   {
    "duration": 10,
    "start_time": "2022-03-10T16:56:56.327Z"
   },
   {
    "duration": 79,
    "start_time": "2022-03-10T16:56:56.340Z"
   },
   {
    "duration": 9,
    "start_time": "2022-03-10T16:56:56.422Z"
   },
   {
    "duration": 10,
    "start_time": "2022-03-10T16:56:56.434Z"
   },
   {
    "duration": 852,
    "start_time": "2022-03-10T16:56:56.447Z"
   },
   {
    "duration": 5,
    "start_time": "2022-03-10T16:56:57.302Z"
   },
   {
    "duration": 20,
    "start_time": "2022-03-10T16:56:57.310Z"
   },
   {
    "duration": 50,
    "start_time": "2022-03-10T16:56:57.332Z"
   },
   {
    "duration": 8,
    "start_time": "2022-03-10T16:56:57.384Z"
   },
   {
    "duration": 272,
    "start_time": "2022-03-10T16:56:57.394Z"
   },
   {
    "duration": 5,
    "start_time": "2022-03-10T16:56:57.668Z"
   },
   {
    "duration": 13,
    "start_time": "2022-03-10T16:56:57.683Z"
   },
   {
    "duration": 176836,
    "start_time": "2022-03-10T16:56:57.698Z"
   },
   {
    "duration": 4,
    "start_time": "2022-03-10T16:59:54.537Z"
   },
   {
    "duration": 21,
    "start_time": "2022-03-10T16:59:54.544Z"
   },
   {
    "duration": 21,
    "start_time": "2022-03-10T16:59:54.583Z"
   },
   {
    "duration": 7,
    "start_time": "2022-03-10T16:59:54.606Z"
   },
   {
    "duration": 465661,
    "start_time": "2022-03-10T16:59:54.615Z"
   },
   {
    "duration": 4,
    "start_time": "2022-03-10T17:07:40.283Z"
   },
   {
    "duration": 491,
    "start_time": "2022-03-10T17:07:40.290Z"
   },
   {
    "duration": 35,
    "start_time": "2022-03-10T17:07:40.784Z"
   },
   {
    "duration": 66,
    "start_time": "2022-03-10T17:07:40.821Z"
   },
   {
    "duration": 569,
    "start_time": "2022-03-10T17:07:40.890Z"
   },
   {
    "duration": 4,
    "start_time": "2022-03-10T17:07:41.461Z"
   },
   {
    "duration": 27,
    "start_time": "2022-03-10T17:07:41.468Z"
   },
   {
    "duration": 20660,
    "start_time": "2022-03-10T17:07:41.498Z"
   },
   {
    "duration": 6,
    "start_time": "2022-03-10T17:08:02.161Z"
   },
   {
    "duration": 56,
    "start_time": "2022-03-10T17:08:02.170Z"
   },
   {
    "duration": 16,
    "start_time": "2022-03-10T17:08:02.228Z"
   },
   {
    "duration": 11,
    "start_time": "2022-03-10T17:08:02.246Z"
   },
   {
    "duration": 30,
    "start_time": "2022-03-10T17:08:02.260Z"
   },
   {
    "duration": 490104,
    "start_time": "2022-03-10T17:08:02.292Z"
   },
   {
    "duration": 5,
    "start_time": "2022-03-10T17:16:12.398Z"
   },
   {
    "duration": 387,
    "start_time": "2022-03-10T17:16:12.405Z"
   },
   {
    "duration": 13,
    "start_time": "2022-03-10T17:16:12.794Z"
   },
   {
    "duration": 175,
    "start_time": "2022-03-10T17:16:12.810Z"
   },
   {
    "duration": 120,
    "start_time": "2022-03-10T17:16:12.988Z"
   },
   {
    "duration": 77,
    "start_time": "2022-03-10T17:16:13.114Z"
   },
   {
    "duration": 288,
    "start_time": "2022-03-10T17:16:13.194Z"
   },
   {
    "duration": 23,
    "start_time": "2022-03-10T17:16:13.485Z"
   },
   {
    "duration": 218,
    "start_time": "2022-03-10T17:16:13.511Z"
   },
   {
    "duration": 201,
    "start_time": "2022-03-10T17:16:13.731Z"
   },
   {
    "duration": 398,
    "start_time": "2022-03-10T17:16:13.934Z"
   }
  ],
  "kernelspec": {
   "display_name": "Python 3 (ipykernel)",
   "language": "python",
   "name": "python3"
  },
  "language_info": {
   "codemirror_mode": {
    "name": "ipython",
    "version": 3
   },
   "file_extension": ".py",
   "mimetype": "text/x-python",
   "name": "python",
   "nbconvert_exporter": "python",
   "pygments_lexer": "ipython3",
   "version": "3.9.5"
  },
  "toc": {
   "base_numbering": 1,
   "nav_menu": {},
   "number_sections": true,
   "sideBar": true,
   "skip_h1_title": true,
   "title_cell": "Содержание",
   "title_sidebar": "Contents",
   "toc_cell": true,
   "toc_position": {},
   "toc_section_display": true,
   "toc_window_display": true
  }
 },
 "nbformat": 4,
 "nbformat_minor": 2
}
